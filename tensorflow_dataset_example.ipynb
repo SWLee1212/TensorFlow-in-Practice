{
  "nbformat": 4,
  "nbformat_minor": 0,
  "metadata": {
    "colab": {
      "name": "tensorflow_dataset_example.ipynb",
      "provenance": [],
      "include_colab_link": true
    },
    "kernelspec": {
      "name": "python3",
      "display_name": "Python 3"
    }
  },
  "cells": [
    {
      "cell_type": "markdown",
      "metadata": {
        "id": "view-in-github",
        "colab_type": "text"
      },
      "source": [
        "<a href=\"https://colab.research.google.com/github/SWLee1212/TensorFlow-in-Practice/blob/master/tensorflow_dataset_example.ipynb\" target=\"_parent\"><img src=\"https://colab.research.google.com/assets/colab-badge.svg\" alt=\"Open In Colab\"/></a>"
      ]
    },
    {
      "cell_type": "code",
      "metadata": {
        "id": "Mhnh1zqd9l5r",
        "colab_type": "code",
        "outputId": "5babd621-b2b5-49c2-897e-26f622c7fdca",
        "colab": {
          "base_uri": "https://localhost:8080/"
        }
      },
      "source": [
        "import tensorflow as tf\n",
        "print(tf.__version__)\n",
        "tf.enable_eager_execution()"
      ],
      "execution_count": 0,
      "outputs": [
        {
          "output_type": "stream",
          "text": [
            "1.15.0\n"
          ],
          "name": "stdout"
        }
      ]
    },
    {
      "cell_type": "code",
      "metadata": {
        "id": "UflRwELR9sNi",
        "colab_type": "code",
        "colab": {}
      },
      "source": [
        "\n",
        "dataset = tf.data.Dataset.range(1,4)"
      ],
      "execution_count": 0,
      "outputs": []
    },
    {
      "cell_type": "code",
      "metadata": {
        "id": "16z2X1vY9vbT",
        "colab_type": "code",
        "colab": {}
      },
      "source": [
        "data_iter = dataset.__iter__()"
      ],
      "execution_count": 0,
      "outputs": []
    },
    {
      "cell_type": "code",
      "metadata": {
        "id": "SYHScj0g90RJ",
        "colab_type": "code",
        "outputId": "c9b6a655-1b8c-455a-b58c-e1369fd1c7a2",
        "colab": {
          "base_uri": "https://localhost:8080/",
          "height": 69
        }
      },
      "source": [
        "for d in data_iter:\n",
        "  print(d)"
      ],
      "execution_count": 0,
      "outputs": [
        {
          "output_type": "stream",
          "text": [
            "tf.Tensor(1, shape=(), dtype=int64)\n",
            "tf.Tensor(2, shape=(), dtype=int64)\n",
            "tf.Tensor(3, shape=(), dtype=int64)\n"
          ],
          "name": "stdout"
        }
      ]
    },
    {
      "cell_type": "code",
      "metadata": {
        "id": "qQHBs8HPAD6V",
        "colab_type": "code",
        "outputId": "50ed782d-7c61-4439-e107-dfd084656487",
        "colab": {
          "base_uri": "https://localhost:8080/",
          "height": 69
        }
      },
      "source": [
        "data_iter = dataset.__iter__()\n",
        "\n",
        "\n",
        "for d in data_iter:\n",
        "  print(d)"
      ],
      "execution_count": 0,
      "outputs": [
        {
          "output_type": "stream",
          "text": [
            "tf.Tensor(1, shape=(), dtype=int64)\n",
            "tf.Tensor(2, shape=(), dtype=int64)\n",
            "tf.Tensor(3, shape=(), dtype=int64)\n"
          ],
          "name": "stdout"
        }
      ]
    },
    {
      "cell_type": "code",
      "metadata": {
        "id": "NwUcIULrAHMy",
        "colab_type": "code",
        "outputId": "187b5174-fd2f-4006-8b4f-0b3a576ae931",
        "colab": {
          "base_uri": "https://localhost:8080/",
          "height": 121
        }
      },
      "source": [
        "\n",
        "X = tf.constant([[[1,2,3],[3,4,5]],[[3,4,5],[5,6,7]]])\n",
        "Y = tf.constant([[[11]],[[12]]])\n",
        "dataset = tf.data.Dataset.from_tensor_slices((X, Y))\n",
        "for x, y in dataset:\n",
        "  print(x, y)"
      ],
      "execution_count": 0,
      "outputs": [
        {
          "output_type": "stream",
          "text": [
            "tf.Tensor(\n",
            "[[1 2 3]\n",
            " [3 4 5]], shape=(2, 3), dtype=int32) tf.Tensor([[11]], shape=(1, 1), dtype=int32)\n",
            "tf.Tensor(\n",
            "[[3 4 5]\n",
            " [5 6 7]], shape=(2, 3), dtype=int32) tf.Tensor([[12]], shape=(1, 1), dtype=int32)\n"
          ],
          "name": "stdout"
        }
      ]
    },
    {
      "cell_type": "code",
      "metadata": {
        "id": "Po38rlS2CtTg",
        "colab_type": "code",
        "outputId": "fa490d7a-871c-4814-ec96-207151c24ff6",
        "colab": {
          "base_uri": "https://localhost:8080/",
          "height": 89
        }
      },
      "source": [
        "import numpy as np\n",
        "\n",
        "x = np.random.sample((100,2))\n",
        "# make a dataset from a numpy array\n",
        "dataset = tf.data.Dataset.from_tensor_slices(x)\n",
        "# create the iterator\n",
        "iter = dataset.make_one_shot_iterator()"
      ],
      "execution_count": 0,
      "outputs": [
        {
          "output_type": "stream",
          "text": [
            "WARNING:tensorflow:From <ipython-input-12-8b085ef3da47>:7: DatasetV1.make_one_shot_iterator (from tensorflow.python.data.ops.dataset_ops) is deprecated and will be removed in a future version.\n",
            "Instructions for updating:\n",
            "Use `for ... in dataset:` to iterate over a dataset. If using `tf.estimator`, return the `Dataset` object directly from your input function. As a last resort, you can use `tf.compat.v1.data.make_one_shot_iterator(dataset)`.\n"
          ],
          "name": "stdout"
        }
      ]
    },
    {
      "cell_type": "code",
      "metadata": {
        "id": "biCBCSBUDFrg",
        "colab_type": "code",
        "colab": {}
      },
      "source": [
        "# create the iterator\n",
        "iter = dataset.make_one_shot_iterator()\n",
        "el = iter.get_next()"
      ],
      "execution_count": 0,
      "outputs": []
    },
    {
      "cell_type": "code",
      "metadata": {
        "id": "G_fwcGocDKvV",
        "colab_type": "code",
        "outputId": "87cc5118-f563-44cd-a119-1c432da0e50f",
        "colab": {
          "base_uri": "https://localhost:8080/",
          "height": 1000
        }
      },
      "source": [
        "\n",
        "\n",
        "for x,l in dataset:\n",
        "  print(x, l)"
      ],
      "execution_count": 0,
      "outputs": [
        {
          "output_type": "stream",
          "text": [
            "tf.Tensor(0.3933147545566097, shape=(), dtype=float64) tf.Tensor(0.8787389237617256, shape=(), dtype=float64)\n",
            "tf.Tensor(0.44869158376202734, shape=(), dtype=float64) tf.Tensor(0.46061555674676513, shape=(), dtype=float64)\n",
            "tf.Tensor(0.20460810663492612, shape=(), dtype=float64) tf.Tensor(0.373740171316978, shape=(), dtype=float64)\n",
            "tf.Tensor(0.45259045403525255, shape=(), dtype=float64) tf.Tensor(0.8442150179320242, shape=(), dtype=float64)\n",
            "tf.Tensor(0.05705703395656281, shape=(), dtype=float64) tf.Tensor(0.9703355053525193, shape=(), dtype=float64)\n",
            "tf.Tensor(0.8698631948435814, shape=(), dtype=float64) tf.Tensor(0.12597460172589936, shape=(), dtype=float64)\n",
            "tf.Tensor(0.40378152855513316, shape=(), dtype=float64) tf.Tensor(0.974805158139165, shape=(), dtype=float64)\n",
            "tf.Tensor(0.3758984363989465, shape=(), dtype=float64) tf.Tensor(0.0720708880189852, shape=(), dtype=float64)\n",
            "tf.Tensor(0.07242718005731885, shape=(), dtype=float64) tf.Tensor(0.3572192586153323, shape=(), dtype=float64)\n",
            "tf.Tensor(0.08365526568889681, shape=(), dtype=float64) tf.Tensor(0.9454702832328618, shape=(), dtype=float64)\n",
            "tf.Tensor(0.20817122385072284, shape=(), dtype=float64) tf.Tensor(0.9841904820954039, shape=(), dtype=float64)\n",
            "tf.Tensor(0.7308825280576294, shape=(), dtype=float64) tf.Tensor(0.08794033791629485, shape=(), dtype=float64)\n",
            "tf.Tensor(0.8613594873537234, shape=(), dtype=float64) tf.Tensor(0.6948482195264375, shape=(), dtype=float64)\n",
            "tf.Tensor(0.2928352059719783, shape=(), dtype=float64) tf.Tensor(0.30070834337889285, shape=(), dtype=float64)\n",
            "tf.Tensor(0.5972880037606311, shape=(), dtype=float64) tf.Tensor(0.27889877231531246, shape=(), dtype=float64)\n",
            "tf.Tensor(0.6135634390967126, shape=(), dtype=float64) tf.Tensor(0.49339558740172507, shape=(), dtype=float64)\n",
            "tf.Tensor(0.3298225611289636, shape=(), dtype=float64) tf.Tensor(0.19797748907732082, shape=(), dtype=float64)\n",
            "tf.Tensor(0.9089035136736374, shape=(), dtype=float64) tf.Tensor(0.4907691814640487, shape=(), dtype=float64)\n",
            "tf.Tensor(0.8349055201882537, shape=(), dtype=float64) tf.Tensor(0.04341027519698237, shape=(), dtype=float64)\n",
            "tf.Tensor(0.6767808852279309, shape=(), dtype=float64) tf.Tensor(0.28890702971571935, shape=(), dtype=float64)\n",
            "tf.Tensor(0.760482674691986, shape=(), dtype=float64) tf.Tensor(0.9405716221075169, shape=(), dtype=float64)\n",
            "tf.Tensor(0.003330197630768361, shape=(), dtype=float64) tf.Tensor(0.8188138459163888, shape=(), dtype=float64)\n",
            "tf.Tensor(0.30834761042839764, shape=(), dtype=float64) tf.Tensor(0.02777739410097646, shape=(), dtype=float64)\n",
            "tf.Tensor(0.028187385257185338, shape=(), dtype=float64) tf.Tensor(0.47642570033926435, shape=(), dtype=float64)\n",
            "tf.Tensor(0.35342673164427596, shape=(), dtype=float64) tf.Tensor(0.6300179994289248, shape=(), dtype=float64)\n",
            "tf.Tensor(0.3302011203890791, shape=(), dtype=float64) tf.Tensor(0.962275244451435, shape=(), dtype=float64)\n",
            "tf.Tensor(0.5588997572322058, shape=(), dtype=float64) tf.Tensor(0.921087015531307, shape=(), dtype=float64)\n",
            "tf.Tensor(0.14547365586358307, shape=(), dtype=float64) tf.Tensor(0.048226782545195856, shape=(), dtype=float64)\n",
            "tf.Tensor(0.32512340654188066, shape=(), dtype=float64) tf.Tensor(0.38964782081008253, shape=(), dtype=float64)\n",
            "tf.Tensor(0.8682721504074362, shape=(), dtype=float64) tf.Tensor(0.03768053320572651, shape=(), dtype=float64)\n",
            "tf.Tensor(0.3451942866688288, shape=(), dtype=float64) tf.Tensor(0.3044238142966039, shape=(), dtype=float64)\n",
            "tf.Tensor(0.4965684966962046, shape=(), dtype=float64) tf.Tensor(0.09873621026995894, shape=(), dtype=float64)\n",
            "tf.Tensor(0.8812076373227331, shape=(), dtype=float64) tf.Tensor(0.5498746207842006, shape=(), dtype=float64)\n",
            "tf.Tensor(0.23936062437052597, shape=(), dtype=float64) tf.Tensor(0.3157463522229863, shape=(), dtype=float64)\n",
            "tf.Tensor(0.32418032521572404, shape=(), dtype=float64) tf.Tensor(0.588858743177, shape=(), dtype=float64)\n",
            "tf.Tensor(0.8398525141298111, shape=(), dtype=float64) tf.Tensor(0.42929223171868236, shape=(), dtype=float64)\n",
            "tf.Tensor(0.8064220013016863, shape=(), dtype=float64) tf.Tensor(0.8963566953041777, shape=(), dtype=float64)\n",
            "tf.Tensor(0.07369888685901771, shape=(), dtype=float64) tf.Tensor(0.9958686243607203, shape=(), dtype=float64)\n",
            "tf.Tensor(0.23097643533503165, shape=(), dtype=float64) tf.Tensor(0.4966397578654659, shape=(), dtype=float64)\n",
            "tf.Tensor(0.19085700008395445, shape=(), dtype=float64) tf.Tensor(0.45041732158686953, shape=(), dtype=float64)\n",
            "tf.Tensor(0.8337493804870029, shape=(), dtype=float64) tf.Tensor(0.29983204509092687, shape=(), dtype=float64)\n",
            "tf.Tensor(0.057741082500001095, shape=(), dtype=float64) tf.Tensor(0.5773723651689037, shape=(), dtype=float64)\n",
            "tf.Tensor(0.6787320758521078, shape=(), dtype=float64) tf.Tensor(0.7797561184334028, shape=(), dtype=float64)\n",
            "tf.Tensor(0.5273804354579177, shape=(), dtype=float64) tf.Tensor(0.8394577847546214, shape=(), dtype=float64)\n",
            "tf.Tensor(0.4246344091054084, shape=(), dtype=float64) tf.Tensor(0.2719018872865102, shape=(), dtype=float64)\n",
            "tf.Tensor(0.08004825235769286, shape=(), dtype=float64) tf.Tensor(0.9700198132875315, shape=(), dtype=float64)\n",
            "tf.Tensor(0.8223088165220759, shape=(), dtype=float64) tf.Tensor(0.5398526759564697, shape=(), dtype=float64)\n",
            "tf.Tensor(0.6843944346625583, shape=(), dtype=float64) tf.Tensor(0.8880173844179108, shape=(), dtype=float64)\n",
            "tf.Tensor(0.5750697276032124, shape=(), dtype=float64) tf.Tensor(0.252705555153265, shape=(), dtype=float64)\n",
            "tf.Tensor(0.3580354945705787, shape=(), dtype=float64) tf.Tensor(0.5404902298051282, shape=(), dtype=float64)\n",
            "tf.Tensor(0.40124248617097147, shape=(), dtype=float64) tf.Tensor(0.8311413853632605, shape=(), dtype=float64)\n",
            "tf.Tensor(0.07784658822379353, shape=(), dtype=float64) tf.Tensor(0.7455441536338464, shape=(), dtype=float64)\n",
            "tf.Tensor(0.0396549738185612, shape=(), dtype=float64) tf.Tensor(0.8158126941147703, shape=(), dtype=float64)\n",
            "tf.Tensor(0.6857662433983633, shape=(), dtype=float64) tf.Tensor(0.8182744705063313, shape=(), dtype=float64)\n",
            "tf.Tensor(0.21237858588616643, shape=(), dtype=float64) tf.Tensor(0.5617254976059638, shape=(), dtype=float64)\n",
            "tf.Tensor(0.06839719651701626, shape=(), dtype=float64) tf.Tensor(0.1564928774159562, shape=(), dtype=float64)\n",
            "tf.Tensor(0.7667973944673145, shape=(), dtype=float64) tf.Tensor(0.26709135011623064, shape=(), dtype=float64)\n",
            "tf.Tensor(0.7683848626182165, shape=(), dtype=float64) tf.Tensor(0.1504411666521609, shape=(), dtype=float64)\n",
            "tf.Tensor(0.1769740558659153, shape=(), dtype=float64) tf.Tensor(0.9525826407819415, shape=(), dtype=float64)\n",
            "tf.Tensor(0.06478200514774313, shape=(), dtype=float64) tf.Tensor(0.14581752512662727, shape=(), dtype=float64)\n",
            "tf.Tensor(0.8666109810750586, shape=(), dtype=float64) tf.Tensor(0.1690380909124508, shape=(), dtype=float64)\n",
            "tf.Tensor(0.6080236905589081, shape=(), dtype=float64) tf.Tensor(0.8789305159125113, shape=(), dtype=float64)\n",
            "tf.Tensor(0.4366158140912797, shape=(), dtype=float64) tf.Tensor(0.5300031646983285, shape=(), dtype=float64)\n",
            "tf.Tensor(0.11870720592713457, shape=(), dtype=float64) tf.Tensor(0.5004875315446672, shape=(), dtype=float64)\n",
            "tf.Tensor(0.39551743432568964, shape=(), dtype=float64) tf.Tensor(0.2125468433289759, shape=(), dtype=float64)\n",
            "tf.Tensor(0.5024944676864178, shape=(), dtype=float64) tf.Tensor(0.6857166561280693, shape=(), dtype=float64)\n",
            "tf.Tensor(0.9473666113334646, shape=(), dtype=float64) tf.Tensor(0.5123255540206201, shape=(), dtype=float64)\n",
            "tf.Tensor(0.34478368714897756, shape=(), dtype=float64) tf.Tensor(0.5909252635032417, shape=(), dtype=float64)\n",
            "tf.Tensor(0.7087273673546558, shape=(), dtype=float64) tf.Tensor(0.32052051464345543, shape=(), dtype=float64)\n",
            "tf.Tensor(0.7147608867855788, shape=(), dtype=float64) tf.Tensor(0.3524116398730872, shape=(), dtype=float64)\n",
            "tf.Tensor(0.45850045249325566, shape=(), dtype=float64) tf.Tensor(0.7167031437610317, shape=(), dtype=float64)\n",
            "tf.Tensor(0.4620961429865902, shape=(), dtype=float64) tf.Tensor(0.6175227466860539, shape=(), dtype=float64)\n",
            "tf.Tensor(0.006512558845033323, shape=(), dtype=float64) tf.Tensor(0.7196259645141452, shape=(), dtype=float64)\n",
            "tf.Tensor(0.12098209988999242, shape=(), dtype=float64) tf.Tensor(0.1792102707654123, shape=(), dtype=float64)\n",
            "tf.Tensor(0.4640725627669251, shape=(), dtype=float64) tf.Tensor(0.7018103174700062, shape=(), dtype=float64)\n",
            "tf.Tensor(0.484021019490006, shape=(), dtype=float64) tf.Tensor(0.9287510041368717, shape=(), dtype=float64)\n",
            "tf.Tensor(0.7361130428310997, shape=(), dtype=float64) tf.Tensor(0.1835757070495322, shape=(), dtype=float64)\n",
            "tf.Tensor(0.9641797794324373, shape=(), dtype=float64) tf.Tensor(0.6445224528313578, shape=(), dtype=float64)\n",
            "tf.Tensor(0.20336038981194837, shape=(), dtype=float64) tf.Tensor(0.9326248257349818, shape=(), dtype=float64)\n",
            "tf.Tensor(0.9569191385010761, shape=(), dtype=float64) tf.Tensor(0.9384109988409474, shape=(), dtype=float64)\n",
            "tf.Tensor(0.6463091850801662, shape=(), dtype=float64) tf.Tensor(0.4760823731471018, shape=(), dtype=float64)\n",
            "tf.Tensor(0.2253674193881382, shape=(), dtype=float64) tf.Tensor(0.047950681787156, shape=(), dtype=float64)\n",
            "tf.Tensor(0.010779126178261489, shape=(), dtype=float64) tf.Tensor(0.20620274841981723, shape=(), dtype=float64)\n",
            "tf.Tensor(0.7686644097998853, shape=(), dtype=float64) tf.Tensor(0.8992624063812602, shape=(), dtype=float64)\n",
            "tf.Tensor(0.5918332874359974, shape=(), dtype=float64) tf.Tensor(0.8818337215161564, shape=(), dtype=float64)\n",
            "tf.Tensor(0.11894807069954283, shape=(), dtype=float64) tf.Tensor(0.8088118770546427, shape=(), dtype=float64)\n",
            "tf.Tensor(0.2517930112604051, shape=(), dtype=float64) tf.Tensor(0.9730770303019092, shape=(), dtype=float64)\n",
            "tf.Tensor(0.8776652596494656, shape=(), dtype=float64) tf.Tensor(0.23231466437986004, shape=(), dtype=float64)\n",
            "tf.Tensor(0.716268217812395, shape=(), dtype=float64) tf.Tensor(0.7522026239289923, shape=(), dtype=float64)\n",
            "tf.Tensor(0.24785927218307213, shape=(), dtype=float64) tf.Tensor(0.6303288480445246, shape=(), dtype=float64)\n",
            "tf.Tensor(0.8745494962689124, shape=(), dtype=float64) tf.Tensor(0.3005666475914164, shape=(), dtype=float64)\n",
            "tf.Tensor(0.597880715018091, shape=(), dtype=float64) tf.Tensor(0.42393410732643266, shape=(), dtype=float64)\n",
            "tf.Tensor(0.3514980475253009, shape=(), dtype=float64) tf.Tensor(0.17544706362814244, shape=(), dtype=float64)\n",
            "tf.Tensor(0.8125210037470011, shape=(), dtype=float64) tf.Tensor(0.8911551958068341, shape=(), dtype=float64)\n",
            "tf.Tensor(0.039148103353700114, shape=(), dtype=float64) tf.Tensor(0.023989580774766317, shape=(), dtype=float64)\n",
            "tf.Tensor(0.9208472484620688, shape=(), dtype=float64) tf.Tensor(0.6274292313876275, shape=(), dtype=float64)\n",
            "tf.Tensor(0.5620728733179324, shape=(), dtype=float64) tf.Tensor(0.7972179268873293, shape=(), dtype=float64)\n",
            "tf.Tensor(0.5423235168617244, shape=(), dtype=float64) tf.Tensor(0.061210763096023024, shape=(), dtype=float64)\n",
            "tf.Tensor(0.35273828966834786, shape=(), dtype=float64) tf.Tensor(0.9122989374636706, shape=(), dtype=float64)\n",
            "tf.Tensor(0.939938875090085, shape=(), dtype=float64) tf.Tensor(0.48568739740582445, shape=(), dtype=float64)\n"
          ],
          "name": "stdout"
        }
      ]
    },
    {
      "cell_type": "code",
      "metadata": {
        "id": "I-L39BSPDLiX",
        "colab_type": "code",
        "outputId": "352ca889-ac71-476e-8269-7a377eb9cf74",
        "colab": {
          "base_uri": "https://localhost:8080/",
          "height": 1000
        }
      },
      "source": [
        "data_batch = dataset.batch(4)\n",
        "\n",
        "for d in data_batch:\n",
        "  print(d)"
      ],
      "execution_count": 0,
      "outputs": [
        {
          "output_type": "stream",
          "text": [
            "tf.Tensor(\n",
            "[[0.39331475 0.87873892]\n",
            " [0.44869158 0.46061556]\n",
            " [0.20460811 0.37374017]\n",
            " [0.45259045 0.84421502]], shape=(4, 2), dtype=float64)\n",
            "tf.Tensor(\n",
            "[[0.05705703 0.97033551]\n",
            " [0.86986319 0.1259746 ]\n",
            " [0.40378153 0.97480516]\n",
            " [0.37589844 0.07207089]], shape=(4, 2), dtype=float64)\n",
            "tf.Tensor(\n",
            "[[0.07242718 0.35721926]\n",
            " [0.08365527 0.94547028]\n",
            " [0.20817122 0.98419048]\n",
            " [0.73088253 0.08794034]], shape=(4, 2), dtype=float64)\n",
            "tf.Tensor(\n",
            "[[0.86135949 0.69484822]\n",
            " [0.29283521 0.30070834]\n",
            " [0.597288   0.27889877]\n",
            " [0.61356344 0.49339559]], shape=(4, 2), dtype=float64)\n",
            "tf.Tensor(\n",
            "[[0.32982256 0.19797749]\n",
            " [0.90890351 0.49076918]\n",
            " [0.83490552 0.04341028]\n",
            " [0.67678089 0.28890703]], shape=(4, 2), dtype=float64)\n",
            "tf.Tensor(\n",
            "[[0.76048267 0.94057162]\n",
            " [0.0033302  0.81881385]\n",
            " [0.30834761 0.02777739]\n",
            " [0.02818739 0.4764257 ]], shape=(4, 2), dtype=float64)\n",
            "tf.Tensor(\n",
            "[[0.35342673 0.630018  ]\n",
            " [0.33020112 0.96227524]\n",
            " [0.55889976 0.92108702]\n",
            " [0.14547366 0.04822678]], shape=(4, 2), dtype=float64)\n",
            "tf.Tensor(\n",
            "[[0.32512341 0.38964782]\n",
            " [0.86827215 0.03768053]\n",
            " [0.34519429 0.30442381]\n",
            " [0.4965685  0.09873621]], shape=(4, 2), dtype=float64)\n",
            "tf.Tensor(\n",
            "[[0.88120764 0.54987462]\n",
            " [0.23936062 0.31574635]\n",
            " [0.32418033 0.58885874]\n",
            " [0.83985251 0.42929223]], shape=(4, 2), dtype=float64)\n",
            "tf.Tensor(\n",
            "[[0.806422   0.8963567 ]\n",
            " [0.07369889 0.99586862]\n",
            " [0.23097644 0.49663976]\n",
            " [0.190857   0.45041732]], shape=(4, 2), dtype=float64)\n",
            "tf.Tensor(\n",
            "[[0.83374938 0.29983205]\n",
            " [0.05774108 0.57737237]\n",
            " [0.67873208 0.77975612]\n",
            " [0.52738044 0.83945778]], shape=(4, 2), dtype=float64)\n",
            "tf.Tensor(\n",
            "[[0.42463441 0.27190189]\n",
            " [0.08004825 0.97001981]\n",
            " [0.82230882 0.53985268]\n",
            " [0.68439443 0.88801738]], shape=(4, 2), dtype=float64)\n",
            "tf.Tensor(\n",
            "[[0.57506973 0.25270556]\n",
            " [0.35803549 0.54049023]\n",
            " [0.40124249 0.83114139]\n",
            " [0.07784659 0.74554415]], shape=(4, 2), dtype=float64)\n",
            "tf.Tensor(\n",
            "[[0.03965497 0.81581269]\n",
            " [0.68576624 0.81827447]\n",
            " [0.21237859 0.5617255 ]\n",
            " [0.0683972  0.15649288]], shape=(4, 2), dtype=float64)\n",
            "tf.Tensor(\n",
            "[[0.76679739 0.26709135]\n",
            " [0.76838486 0.15044117]\n",
            " [0.17697406 0.95258264]\n",
            " [0.06478201 0.14581753]], shape=(4, 2), dtype=float64)\n",
            "tf.Tensor(\n",
            "[[0.86661098 0.16903809]\n",
            " [0.60802369 0.87893052]\n",
            " [0.43661581 0.53000316]\n",
            " [0.11870721 0.50048753]], shape=(4, 2), dtype=float64)\n",
            "tf.Tensor(\n",
            "[[0.39551743 0.21254684]\n",
            " [0.50249447 0.68571666]\n",
            " [0.94736661 0.51232555]\n",
            " [0.34478369 0.59092526]], shape=(4, 2), dtype=float64)\n",
            "tf.Tensor(\n",
            "[[0.70872737 0.32052051]\n",
            " [0.71476089 0.35241164]\n",
            " [0.45850045 0.71670314]\n",
            " [0.46209614 0.61752275]], shape=(4, 2), dtype=float64)\n",
            "tf.Tensor(\n",
            "[[0.00651256 0.71962596]\n",
            " [0.1209821  0.17921027]\n",
            " [0.46407256 0.70181032]\n",
            " [0.48402102 0.928751  ]], shape=(4, 2), dtype=float64)\n",
            "tf.Tensor(\n",
            "[[0.73611304 0.18357571]\n",
            " [0.96417978 0.64452245]\n",
            " [0.20336039 0.93262483]\n",
            " [0.95691914 0.938411  ]], shape=(4, 2), dtype=float64)\n",
            "tf.Tensor(\n",
            "[[0.64630919 0.47608237]\n",
            " [0.22536742 0.04795068]\n",
            " [0.01077913 0.20620275]\n",
            " [0.76866441 0.89926241]], shape=(4, 2), dtype=float64)\n",
            "tf.Tensor(\n",
            "[[0.59183329 0.88183372]\n",
            " [0.11894807 0.80881188]\n",
            " [0.25179301 0.97307703]\n",
            " [0.87766526 0.23231466]], shape=(4, 2), dtype=float64)\n",
            "tf.Tensor(\n",
            "[[0.71626822 0.75220262]\n",
            " [0.24785927 0.63032885]\n",
            " [0.8745495  0.30056665]\n",
            " [0.59788072 0.42393411]], shape=(4, 2), dtype=float64)\n",
            "tf.Tensor(\n",
            "[[0.35149805 0.17544706]\n",
            " [0.812521   0.8911552 ]\n",
            " [0.0391481  0.02398958]\n",
            " [0.92084725 0.62742923]], shape=(4, 2), dtype=float64)\n",
            "tf.Tensor(\n",
            "[[0.56207287 0.79721793]\n",
            " [0.54232352 0.06121076]\n",
            " [0.35273829 0.91229894]\n",
            " [0.93993888 0.4856874 ]], shape=(4, 2), dtype=float64)\n"
          ],
          "name": "stdout"
        }
      ]
    },
    {
      "cell_type": "code",
      "metadata": {
        "id": "n-dSk-KXEsPe",
        "colab_type": "code",
        "colab": {}
      },
      "source": [
        ""
      ],
      "execution_count": 0,
      "outputs": []
    }
  ]
}