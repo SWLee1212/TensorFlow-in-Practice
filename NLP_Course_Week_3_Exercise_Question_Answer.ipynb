{
  "nbformat": 4,
  "nbformat_minor": 0,
  "metadata": {
    "colab": {
      "name": "NLP Course - Week 3 Exercise Question_Answer.ipynb",
      "provenance": [],
      "include_colab_link": true
    },
    "kernelspec": {
      "name": "python3",
      "display_name": "Python 3"
    },
    "accelerator": "GPU"
  },
  "cells": [
    {
      "cell_type": "markdown",
      "metadata": {
        "id": "view-in-github",
        "colab_type": "text"
      },
      "source": [
        "<a href=\"https://colab.research.google.com/github/SWLee1212/TensorFlow-in-Practice/blob/master/NLP_Course_Week_3_Exercise_Question_Answer.ipynb\" target=\"_parent\"><img src=\"https://colab.research.google.com/assets/colab-badge.svg\" alt=\"Open In Colab\"/></a>"
      ]
    },
    {
      "cell_type": "code",
      "metadata": {
        "id": "hmA6EzkQJ5jt",
        "colab_type": "code",
        "colab": {}
      },
      "source": [
        "import json\n",
        "import tensorflow as tf\n",
        "import csv\n",
        "import random\n",
        "import numpy as np\n",
        "\n",
        "from tensorflow.keras.preprocessing.text import Tokenizer\n",
        "from tensorflow.keras.preprocessing.sequence import pad_sequences\n",
        "from tensorflow.keras.utils import to_categorical\n",
        "from tensorflow.keras import regularizers\n",
        "\n",
        "\n",
        "embedding_dim = 100\n",
        "max_length = 16\n",
        "trunc_type='post'\n",
        "padding_type='post'\n",
        "oov_tok = \"<OOV>\"\n",
        "training_size= 160000 #Your dataset size here. Experiment using smaller values (i.e. 16000), but don't forget to train on at least 160000 to see the best effects\n",
        "test_portion=.1\n",
        "\n",
        "corpus = []\n"
      ],
      "execution_count": 0,
      "outputs": []
    },
    {
      "cell_type": "code",
      "metadata": {
        "id": "bM0l_dORKqE0",
        "colab_type": "code",
        "outputId": "9a5578cf-bda5-4656-9ce9-25d3435d5199",
        "colab": {
          "base_uri": "https://localhost:8080/",
          "height": 210
        }
      },
      "source": [
        "\n",
        "# Note that I cleaned the Stanford dataset to remove LATIN1 encoding to make it easier for Python CSV reader\n",
        "# You can do that yourself with:\n",
        "# iconv -f LATIN1 -t UTF8 training.1600000.processed.noemoticon.csv -o training_cleaned.csv\n",
        "# I then hosted it on my site to make it easier to use in this notebook\n",
        "\n",
        "!wget --no-check-certificate \\\n",
        "    https://storage.googleapis.com/laurencemoroney-blog.appspot.com/training_cleaned.csv \\\n",
        "    -O /tmp/training_cleaned.csv\n",
        "\n",
        "\n",
        "\n",
        "\n"
      ],
      "execution_count": 2,
      "outputs": [
        {
          "output_type": "stream",
          "text": [
            "--2019-10-24 01:14:13--  https://storage.googleapis.com/laurencemoroney-blog.appspot.com/training_cleaned.csv\n",
            "Resolving storage.googleapis.com (storage.googleapis.com)... 74.125.142.128, 2607:f8b0:400e:c08::80\n",
            "Connecting to storage.googleapis.com (storage.googleapis.com)|74.125.142.128|:443... connected.\n",
            "HTTP request sent, awaiting response... 200 OK\n",
            "Length: 238942690 (228M) [application/octet-stream]\n",
            "Saving to: ‘/tmp/training_cleaned.csv’\n",
            "\n",
            "/tmp/training_clean 100%[===================>] 227.87M   141MB/s    in 1.6s    \n",
            "\n",
            "2019-10-24 01:14:15 (141 MB/s) - ‘/tmp/training_cleaned.csv’ saved [238942690/238942690]\n",
            "\n"
          ],
          "name": "stdout"
        }
      ]
    },
    {
      "cell_type": "code",
      "metadata": {
        "id": "jSHxvEgxFGE7",
        "colab_type": "code",
        "colab": {}
      },
      "source": [
        "num_sentences = 0\n",
        "corpus=[]\n",
        "\n",
        "with open(\"/tmp/training_cleaned.csv\") as csvfile:\n",
        "    reader = csv.reader(csvfile, delimiter=',')\n",
        "    for row in reader:\n",
        "      # Your Code here. Create list items where the first item is the text, found in row[5], and the second is the label. Note that the label is a '0' or a '4' in the text. When it's the former, make\n",
        "      # your label to be 0, otherwise 1. Keep a count of the number of sentences in num_sentences\n",
        "        list_item=[]\n",
        "        list_item.append(row[5])\n",
        "        this_label = row[0]\n",
        "        # YOUR CODE HERE\n",
        "        if this_label == '0':\n",
        "          list_item.append(0)\n",
        "        else:\n",
        "          list_item.append(1)\n",
        "                    \n",
        "        num_sentences = num_sentences + 1\n",
        "        corpus.append(list_item)"
      ],
      "execution_count": 0,
      "outputs": []
    },
    {
      "cell_type": "code",
      "metadata": {
        "id": "3kxblBUjEUX-",
        "colab_type": "code",
        "outputId": "20b03c04-4b00-4451-f7a6-b972ff087dc9",
        "colab": {
          "base_uri": "https://localhost:8080/",
          "height": 70
        }
      },
      "source": [
        "print(num_sentences)\n",
        "print(len(corpus))\n",
        "print(corpus[1])\n",
        "\n",
        "# Expected Output:\n",
        "# 1600000\n",
        "# 1600000\n",
        "# [\"is upset that he can't update his Facebook by texting it... and might cry as a result  School today also. Blah!\", 0]"
      ],
      "execution_count": 8,
      "outputs": [
        {
          "output_type": "stream",
          "text": [
            "1600000\n",
            "1600000\n",
            "[\"is upset that he can't update his Facebook by texting it... and might cry as a result  School today also. Blah!\", 0]\n"
          ],
          "name": "stdout"
        }
      ]
    },
    {
      "cell_type": "code",
      "metadata": {
        "id": "ohOGz24lsNAD",
        "colab_type": "code",
        "colab": {}
      },
      "source": [
        "\n",
        "sentences=[]\n",
        "labels=[]\n",
        "random.shuffle(corpus)\n",
        "for x in range(training_size):\n",
        "    sentences.append(corpus[x][0])\n",
        "    labels.append(corpus[x][1])\n",
        "\n",
        "\n",
        "tokenizer = Tokenizer()\n",
        "tokenizer.fit_on_texts(sentences)\n",
        "\n",
        "word_index = tokenizer.word_index\n",
        "vocab_size=len(word_index)\n",
        "\n",
        "sequences = tokenizer.texts_to_sequences(sentences)\n",
        "padded = pad_sequences(sequences, maxlen=max_length, padding = padding_type, truncating = trunc_type)\n",
        "\n",
        "split = int(test_portion * training_size)\n",
        "\n",
        "test_sequences = padded[0:split]\n",
        "training_sequences = padded[split:]\n",
        "test_labels = labels[0:split]\n",
        "training_labels = labels[split:]"
      ],
      "execution_count": 0,
      "outputs": []
    },
    {
      "cell_type": "code",
      "metadata": {
        "id": "gIrtRem1En3N",
        "colab_type": "code",
        "outputId": "f0f6bae3-dd4b-4b23-cded-1d1e76219d29",
        "colab": {
          "base_uri": "https://localhost:8080/",
          "height": 52
        }
      },
      "source": [
        "print(vocab_size)\n",
        "print(word_index['i'])\n",
        "# Expected Output\n",
        "# 138858\n",
        "# 1"
      ],
      "execution_count": 17,
      "outputs": [
        {
          "output_type": "stream",
          "text": [
            "139108\n",
            "1\n"
          ],
          "name": "stdout"
        }
      ]
    },
    {
      "cell_type": "code",
      "metadata": {
        "id": "WR1JV9QZWdf_",
        "colab_type": "code",
        "colab": {
          "base_uri": "https://localhost:8080/",
          "height": 52
        },
        "outputId": "36afa5d4-084f-4006-eef7-2467a82ccd1a"
      },
      "source": [
        "print(len(test_sequences), len(training_sequences))\n",
        "print(len(test_labels), len(training_labels))"
      ],
      "execution_count": 18,
      "outputs": [
        {
          "output_type": "stream",
          "text": [
            "16000 144000\n",
            "16000 144000\n"
          ],
          "name": "stdout"
        }
      ]
    },
    {
      "cell_type": "code",
      "metadata": {
        "id": "C1zdgJkusRh0",
        "colab_type": "code",
        "outputId": "34092d5a-27ef-45b0-c5f9-7addf9ea8817",
        "colab": {
          "base_uri": "https://localhost:8080/",
          "height": 210
        }
      },
      "source": [
        "# Note this is the 100 dimension version of GloVe from Stanford\n",
        "# I unzipped and hosted it on my site to make this notebook easier\n",
        "!wget --no-check-certificate \\\n",
        "    https://storage.googleapis.com/laurencemoroney-blog.appspot.com/glove.6B.100d.txt \\\n",
        "    -O /tmp/glove.6B.100d.txt\n",
        "embeddings_index = {};\n",
        "with open('/tmp/glove.6B.100d.txt') as f:\n",
        "    for line in f:\n",
        "        values = line.split();\n",
        "        word = values[0];\n",
        "        coefs = np.asarray(values[1:], dtype='float32');\n",
        "        embeddings_index[word] = coefs;\n",
        "\n",
        "embeddings_matrix = np.zeros((vocab_size+1, embedding_dim));\n",
        "for word, i in word_index.items():\n",
        "    embedding_vector = embeddings_index.get(word);\n",
        "    if embedding_vector is not None:\n",
        "        embeddings_matrix[i] = embedding_vector;"
      ],
      "execution_count": 23,
      "outputs": [
        {
          "output_type": "stream",
          "text": [
            "--2019-10-24 01:40:14--  https://storage.googleapis.com/laurencemoroney-blog.appspot.com/glove.6B.100d.txt\n",
            "Resolving storage.googleapis.com (storage.googleapis.com)... 74.125.20.128, 2607:f8b0:400e:c08::80\n",
            "Connecting to storage.googleapis.com (storage.googleapis.com)|74.125.20.128|:443... connected.\n",
            "HTTP request sent, awaiting response... 200 OK\n",
            "Length: 347116733 (331M) [text/plain]\n",
            "Saving to: ‘/tmp/glove.6B.100d.txt’\n",
            "\n",
            "/tmp/glove.6B.100d. 100%[===================>] 331.04M   137MB/s    in 2.4s    \n",
            "\n",
            "2019-10-24 01:40:17 (137 MB/s) - ‘/tmp/glove.6B.100d.txt’ saved [347116733/347116733]\n",
            "\n"
          ],
          "name": "stdout"
        }
      ]
    },
    {
      "cell_type": "code",
      "metadata": {
        "id": "71NLk_lpFLNt",
        "colab_type": "code",
        "outputId": "a0530718-bcad-4a20-938e-fbf6a2317645",
        "colab": {
          "base_uri": "https://localhost:8080/",
          "height": 34
        }
      },
      "source": [
        "print(len(embeddings_matrix))\n",
        "# Expected Output\n",
        "# 138859"
      ],
      "execution_count": 24,
      "outputs": [
        {
          "output_type": "stream",
          "text": [
            "139109\n"
          ],
          "name": "stdout"
        }
      ]
    },
    {
      "cell_type": "code",
      "metadata": {
        "colab_type": "code",
        "id": "iKKvbuEBOGFz",
        "colab": {
          "base_uri": "https://localhost:8080/",
          "height": 1000
        },
        "outputId": "62450571-8815-4b47-ad04-7634f1eb6e84"
      },
      "source": [
        "model = tf.keras.Sequential([\n",
        "    tf.keras.layers.Embedding(vocab_size+1, embedding_dim, input_length=max_length, weights=[embeddings_matrix], trainable=False),\n",
        "    tf.keras.layers.Dropout(0.2),\n",
        "    tf.keras.layers.Conv1D(64,5, activation = 'relu'),\n",
        "    tf.keras.layers.MaxPool1D(pool_size=4),\n",
        "    tf.keras.layers.LSTM(64),\n",
        "    tf.keras.layers.Dense(1,activation='sigmoid')\n",
        "])\n",
        "model.compile(loss='binary_crossentropy', optimizer= 'adam',metrics =['accuracy'])\n",
        "model.summary()\n",
        "\n",
        "num_epochs = 50\n",
        "history = model.fit(training_sequences, training_labels, epochs=num_epochs, validation_data=(test_sequences, test_labels), verbose=2)\n",
        "\n",
        "print(\"Training Complete\")\n"
      ],
      "execution_count": 27,
      "outputs": [
        {
          "output_type": "stream",
          "text": [
            "Model: \"sequential_6\"\n",
            "_________________________________________________________________\n",
            "Layer (type)                 Output Shape              Param #   \n",
            "=================================================================\n",
            "embedding_6 (Embedding)      (None, 16, 100)           13910900  \n",
            "_________________________________________________________________\n",
            "dropout_6 (Dropout)          (None, 16, 100)           0         \n",
            "_________________________________________________________________\n",
            "conv1d_6 (Conv1D)            (None, 12, 64)            32064     \n",
            "_________________________________________________________________\n",
            "max_pooling1d_6 (MaxPooling1 (None, 3, 64)             0         \n",
            "_________________________________________________________________\n",
            "lstm_6 (LSTM)                (None, 64)                33024     \n",
            "_________________________________________________________________\n",
            "dense_6 (Dense)              (None, 1)                 65        \n",
            "=================================================================\n",
            "Total params: 13,976,053\n",
            "Trainable params: 65,153\n",
            "Non-trainable params: 13,910,900\n",
            "_________________________________________________________________\n",
            "Train on 144000 samples, validate on 16000 samples\n",
            "Epoch 1/50\n",
            "144000/144000 - 48s - loss: 0.5664 - acc: 0.6999 - val_loss: 0.5277 - val_acc: 0.7319\n",
            "Epoch 2/50\n",
            "144000/144000 - 44s - loss: 0.5270 - acc: 0.7306 - val_loss: 0.5257 - val_acc: 0.7357\n",
            "Epoch 3/50\n",
            "144000/144000 - 44s - loss: 0.5108 - acc: 0.7437 - val_loss: 0.5145 - val_acc: 0.7374\n",
            "Epoch 4/50\n",
            "144000/144000 - 44s - loss: 0.4979 - acc: 0.7538 - val_loss: 0.5090 - val_acc: 0.7489\n",
            "Epoch 5/50\n",
            "144000/144000 - 44s - loss: 0.4901 - acc: 0.7584 - val_loss: 0.5222 - val_acc: 0.7361\n",
            "Epoch 6/50\n",
            "144000/144000 - 44s - loss: 0.4832 - acc: 0.7630 - val_loss: 0.5013 - val_acc: 0.7517\n",
            "Epoch 7/50\n",
            "144000/144000 - 44s - loss: 0.4772 - acc: 0.7665 - val_loss: 0.5042 - val_acc: 0.7486\n",
            "Epoch 8/50\n",
            "144000/144000 - 44s - loss: 0.4730 - acc: 0.7683 - val_loss: 0.5004 - val_acc: 0.7519\n",
            "Epoch 9/50\n",
            "144000/144000 - 44s - loss: 0.4679 - acc: 0.7717 - val_loss: 0.5066 - val_acc: 0.7522\n",
            "Epoch 10/50\n",
            "144000/144000 - 44s - loss: 0.4646 - acc: 0.7739 - val_loss: 0.5041 - val_acc: 0.7561\n",
            "Epoch 11/50\n",
            "144000/144000 - 44s - loss: 0.4597 - acc: 0.7768 - val_loss: 0.4986 - val_acc: 0.7534\n",
            "Epoch 12/50\n",
            "144000/144000 - 44s - loss: 0.4582 - acc: 0.7772 - val_loss: 0.5026 - val_acc: 0.7549\n",
            "Epoch 13/50\n",
            "144000/144000 - 44s - loss: 0.4554 - acc: 0.7792 - val_loss: 0.5097 - val_acc: 0.7524\n",
            "Epoch 14/50\n",
            "144000/144000 - 44s - loss: 0.4519 - acc: 0.7804 - val_loss: 0.5005 - val_acc: 0.7578\n",
            "Epoch 15/50\n",
            "144000/144000 - 44s - loss: 0.4503 - acc: 0.7822 - val_loss: 0.5037 - val_acc: 0.7501\n",
            "Epoch 16/50\n",
            "144000/144000 - 44s - loss: 0.4497 - acc: 0.7820 - val_loss: 0.5129 - val_acc: 0.7501\n",
            "Epoch 17/50\n",
            "144000/144000 - 44s - loss: 0.4489 - acc: 0.7832 - val_loss: 0.5100 - val_acc: 0.7548\n",
            "Epoch 18/50\n",
            "144000/144000 - 44s - loss: 0.4457 - acc: 0.7858 - val_loss: 0.5166 - val_acc: 0.7508\n",
            "Epoch 19/50\n",
            "144000/144000 - 44s - loss: 0.4452 - acc: 0.7857 - val_loss: 0.5138 - val_acc: 0.7511\n",
            "Epoch 20/50\n",
            "144000/144000 - 44s - loss: 0.4436 - acc: 0.7851 - val_loss: 0.5142 - val_acc: 0.7513\n",
            "Epoch 21/50\n",
            "144000/144000 - 44s - loss: 0.4423 - acc: 0.7871 - val_loss: 0.5122 - val_acc: 0.7525\n",
            "Epoch 22/50\n",
            "144000/144000 - 44s - loss: 0.4406 - acc: 0.7877 - val_loss: 0.5091 - val_acc: 0.7513\n",
            "Epoch 23/50\n",
            "144000/144000 - 44s - loss: 0.4412 - acc: 0.7879 - val_loss: 0.5180 - val_acc: 0.7507\n",
            "Epoch 24/50\n",
            "144000/144000 - 44s - loss: 0.4397 - acc: 0.7880 - val_loss: 0.5127 - val_acc: 0.7467\n",
            "Epoch 25/50\n",
            "144000/144000 - 44s - loss: 0.4386 - acc: 0.7886 - val_loss: 0.5153 - val_acc: 0.7433\n",
            "Epoch 26/50\n",
            "144000/144000 - 44s - loss: 0.4377 - acc: 0.7895 - val_loss: 0.5130 - val_acc: 0.7499\n",
            "Epoch 27/50\n",
            "144000/144000 - 44s - loss: 0.4375 - acc: 0.7901 - val_loss: 0.5099 - val_acc: 0.7529\n",
            "Epoch 28/50\n",
            "144000/144000 - 44s - loss: 0.4369 - acc: 0.7914 - val_loss: 0.5101 - val_acc: 0.7528\n",
            "Epoch 29/50\n",
            "144000/144000 - 45s - loss: 0.4361 - acc: 0.7911 - val_loss: 0.5147 - val_acc: 0.7504\n",
            "Epoch 30/50\n",
            "144000/144000 - 46s - loss: 0.4343 - acc: 0.7927 - val_loss: 0.5166 - val_acc: 0.7520\n",
            "Epoch 31/50\n",
            "144000/144000 - 46s - loss: 0.4353 - acc: 0.7912 - val_loss: 0.5146 - val_acc: 0.7516\n",
            "Epoch 32/50\n",
            "144000/144000 - 46s - loss: 0.4331 - acc: 0.7924 - val_loss: 0.5221 - val_acc: 0.7529\n",
            "Epoch 33/50\n",
            "144000/144000 - 46s - loss: 0.4350 - acc: 0.7919 - val_loss: 0.5165 - val_acc: 0.7524\n",
            "Epoch 34/50\n",
            "144000/144000 - 46s - loss: 0.4319 - acc: 0.7942 - val_loss: 0.5211 - val_acc: 0.7523\n",
            "Epoch 35/50\n",
            "144000/144000 - 46s - loss: 0.4316 - acc: 0.7934 - val_loss: 0.5142 - val_acc: 0.7527\n",
            "Epoch 36/50\n",
            "144000/144000 - 46s - loss: 0.4325 - acc: 0.7929 - val_loss: 0.5171 - val_acc: 0.7506\n",
            "Epoch 37/50\n",
            "144000/144000 - 46s - loss: 0.4322 - acc: 0.7941 - val_loss: 0.5147 - val_acc: 0.7516\n",
            "Epoch 38/50\n",
            "144000/144000 - 46s - loss: 0.4313 - acc: 0.7939 - val_loss: 0.5197 - val_acc: 0.7494\n",
            "Epoch 39/50\n",
            "144000/144000 - 46s - loss: 0.4308 - acc: 0.7942 - val_loss: 0.5193 - val_acc: 0.7511\n",
            "Epoch 40/50\n",
            "144000/144000 - 46s - loss: 0.4324 - acc: 0.7930 - val_loss: 0.5192 - val_acc: 0.7511\n",
            "Epoch 41/50\n",
            "144000/144000 - 46s - loss: 0.4306 - acc: 0.7939 - val_loss: 0.5174 - val_acc: 0.7513\n",
            "Epoch 42/50\n",
            "144000/144000 - 46s - loss: 0.4307 - acc: 0.7944 - val_loss: 0.5219 - val_acc: 0.7513\n",
            "Epoch 43/50\n",
            "144000/144000 - 46s - loss: 0.4300 - acc: 0.7954 - val_loss: 0.5178 - val_acc: 0.7506\n",
            "Epoch 44/50\n",
            "144000/144000 - 46s - loss: 0.4286 - acc: 0.7965 - val_loss: 0.5210 - val_acc: 0.7483\n",
            "Epoch 45/50\n",
            "144000/144000 - 46s - loss: 0.4300 - acc: 0.7946 - val_loss: 0.5213 - val_acc: 0.7498\n",
            "Epoch 46/50\n",
            "144000/144000 - 46s - loss: 0.4295 - acc: 0.7941 - val_loss: 0.5208 - val_acc: 0.7469\n",
            "Epoch 47/50\n",
            "144000/144000 - 46s - loss: 0.4300 - acc: 0.7946 - val_loss: 0.5156 - val_acc: 0.7510\n",
            "Epoch 48/50\n",
            "144000/144000 - 45s - loss: 0.4303 - acc: 0.7949 - val_loss: 0.5187 - val_acc: 0.7471\n",
            "Epoch 49/50\n",
            "144000/144000 - 44s - loss: 0.4284 - acc: 0.7952 - val_loss: 0.5203 - val_acc: 0.7511\n",
            "Epoch 50/50\n",
            "144000/144000 - 44s - loss: 0.4293 - acc: 0.7949 - val_loss: 0.5297 - val_acc: 0.7446\n",
            "Training Complete\n"
          ],
          "name": "stdout"
        }
      ]
    },
    {
      "cell_type": "code",
      "metadata": {
        "id": "qxju4ItJKO8F",
        "colab_type": "code",
        "colab": {
          "base_uri": "https://localhost:8080/",
          "height": 239
        },
        "outputId": "7eba632f-da64-44e4-dc32-9ebdbaa8c225"
      },
      "source": [
        "import matplotlib.image  as mpimg\n",
        "import matplotlib.pyplot as plt\n",
        "\n",
        "#-----------------------------------------------------------\n",
        "# Retrieve a list of list results on training and test data\n",
        "# sets for each training epoch\n",
        "#-----------------------------------------------------------\n",
        "acc=history.history['acc']\n",
        "val_acc=history.history['val_acc']\n",
        "loss=history.history['loss']\n",
        "val_loss=history.history['val_loss']\n",
        "\n",
        "epochs=range(len(acc)) # Get number of epochs\n",
        "\n",
        "#------------------------------------------------\n",
        "# Plot training and validation accuracy per epoch\n",
        "#------------------------------------------------\n",
        "plt.plot(epochs, acc, 'r')\n",
        "plt.plot(epochs, val_acc, 'b')\n",
        "plt.title('Training and validation accuracy')\n",
        "plt.xlabel(\"Epochs\")\n",
        "plt.ylabel(\"Accuracy\")\n",
        "plt.legend([\"Accuracy\", \"Validation Accuracy\"])\n",
        "\n",
        "plt.figure()\n",
        "\n",
        "#------------------------------------------------\n",
        "# Plot training and validation loss per epoch\n",
        "#------------------------------------------------\n",
        "plt.plot(epochs, loss, 'r')\n",
        "plt.plot(epochs, val_loss, 'b')\n",
        "plt.title('Training and validation loss')\n",
        "plt.xlabel(\"Epochs\")\n",
        "plt.ylabel(\"Loss\")\n",
        "plt.legend([\"Loss\", \"Validation Loss\"])\n",
        "\n",
        "plt.figure()\n",
        "\n",
        "\n",
        "# Expected Output\n",
        "# A chart where the validation loss does not increase sharply!"
      ],
      "execution_count": 1,
      "outputs": [
        {
          "output_type": "error",
          "ename": "NameError",
          "evalue": "ignored",
          "traceback": [
            "\u001b[0;31m---------------------------------------------------------------------------\u001b[0m",
            "\u001b[0;31mNameError\u001b[0m                                 Traceback (most recent call last)",
            "\u001b[0;32m<ipython-input-1-75ba2cef307b>\u001b[0m in \u001b[0;36m<module>\u001b[0;34m()\u001b[0m\n\u001b[1;32m      6\u001b[0m \u001b[0;31m# sets for each training epoch\u001b[0m\u001b[0;34m\u001b[0m\u001b[0;34m\u001b[0m\u001b[0;34m\u001b[0m\u001b[0m\n\u001b[1;32m      7\u001b[0m \u001b[0;31m#-----------------------------------------------------------\u001b[0m\u001b[0;34m\u001b[0m\u001b[0;34m\u001b[0m\u001b[0;34m\u001b[0m\u001b[0m\n\u001b[0;32m----> 8\u001b[0;31m \u001b[0macc\u001b[0m\u001b[0;34m=\u001b[0m\u001b[0mhistory\u001b[0m\u001b[0;34m.\u001b[0m\u001b[0mhistory\u001b[0m\u001b[0;34m[\u001b[0m\u001b[0;34m'acc'\u001b[0m\u001b[0;34m]\u001b[0m\u001b[0;34m\u001b[0m\u001b[0;34m\u001b[0m\u001b[0m\n\u001b[0m\u001b[1;32m      9\u001b[0m \u001b[0mval_acc\u001b[0m\u001b[0;34m=\u001b[0m\u001b[0mhistory\u001b[0m\u001b[0;34m.\u001b[0m\u001b[0mhistory\u001b[0m\u001b[0;34m[\u001b[0m\u001b[0;34m'val_acc'\u001b[0m\u001b[0;34m]\u001b[0m\u001b[0;34m\u001b[0m\u001b[0;34m\u001b[0m\u001b[0m\n\u001b[1;32m     10\u001b[0m \u001b[0mloss\u001b[0m\u001b[0;34m=\u001b[0m\u001b[0mhistory\u001b[0m\u001b[0;34m.\u001b[0m\u001b[0mhistory\u001b[0m\u001b[0;34m[\u001b[0m\u001b[0;34m'loss'\u001b[0m\u001b[0;34m]\u001b[0m\u001b[0;34m\u001b[0m\u001b[0;34m\u001b[0m\u001b[0m\n",
            "\u001b[0;31mNameError\u001b[0m: name 'history' is not defined"
          ]
        }
      ]
    },
    {
      "cell_type": "code",
      "metadata": {
        "id": "8TNHDWjffOx_",
        "colab_type": "code",
        "colab": {}
      },
      "source": [
        "import plotly.graph_objects as go\n",
        "from plotly.subplots import make_subplots\n",
        "\n",
        "fig = make_subplots(\n",
        "    rows=1,cols=2,\n",
        "    subplot_titles=('Accuracy','Loss')\n",
        "    )\n",
        "\n",
        "fig.add_trace(\n",
        "    go.Scatter(x=list(epochs), y=acc, name='train acc'),\n",
        "    row=1,col=1\n",
        "    )\n",
        "fig.add_trace(\n",
        "    go.Scatter(x=list(epochs), y=val_acc, name='val acc'),\n",
        "    row=1, col=1)        \n",
        "\n",
        "fig.add_trace(\n",
        "    go.Scatter(x=list(epochs), y=loss, name='train loss'),\n",
        "    row=1, col=2)\n",
        "fig.add_trace(\n",
        "    go.Scatter(x=list(epochs), y=val_loss, name='val loss'),\n",
        "    row=1,col=2)        \n",
        "\n",
        "fig.update_xaxes(title_text = 'epoch',row=1,col=1)\n",
        "fig.update_xaxes(title_text = 'epoch',row=1,col=2)\n",
        "fig.update_yaxes(title_text = 'accuracy',row=1,col=1)\n",
        "fig.update_yaxes(title_text = 'loss',row=1,col=2)\n",
        "\n",
        "fig.show()"
      ],
      "execution_count": 0,
      "outputs": []
    }
  ]
}