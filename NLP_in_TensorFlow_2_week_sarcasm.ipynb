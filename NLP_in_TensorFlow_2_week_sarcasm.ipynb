{
  "nbformat": 4,
  "nbformat_minor": 0,
  "metadata": {
    "colab": {
      "name": "NLP_in_TensorFlow_2_week_sarcasm.ipynb",
      "provenance": [],
      "collapsed_sections": [],
      "include_colab_link": true
    },
    "kernelspec": {
      "name": "python3",
      "display_name": "Python 3"
    }
  },
  "cells": [
    {
      "cell_type": "markdown",
      "metadata": {
        "id": "view-in-github",
        "colab_type": "text"
      },
      "source": [
        "<a href=\"https://colab.research.google.com/github/SWLee1212/TensorFlow-in-Practice/blob/master/NLP_in_TensorFlow_2_week_sarcasm.ipynb\" target=\"_parent\"><img src=\"https://colab.research.google.com/assets/colab-badge.svg\" alt=\"Open In Colab\"/></a>"
      ]
    },
    {
      "cell_type": "code",
      "metadata": {
        "id": "yaYHRjF772gY",
        "colab_type": "code",
        "outputId": "77f82ad5-cb78-4f83-ac0f-ea718235abc7",
        "colab": {
          "base_uri": "https://localhost:8080/",
          "height": 34
        }
      },
      "source": [
        "import tensorflow as tf\n",
        "print(tf.__version__)"
      ],
      "execution_count": 1,
      "outputs": [
        {
          "output_type": "stream",
          "text": [
            "1.14.0\n"
          ],
          "name": "stdout"
        }
      ]
    },
    {
      "cell_type": "code",
      "metadata": {
        "id": "-1HN9aCZ8Bjq",
        "colab_type": "code",
        "colab": {}
      },
      "source": [
        "import json\n",
        "\n",
        "from tensorflow.keras.preprocessing.text import Tokenizer\n",
        "from tensorflow.keras.preprocessing.sequence import pad_sequences\n"
      ],
      "execution_count": 0,
      "outputs": []
    },
    {
      "cell_type": "code",
      "metadata": {
        "id": "WFxNlBRD8SFc",
        "colab_type": "code",
        "colab": {}
      },
      "source": [
        "vocab_size = 10000        # vocab size \n",
        "embedding_dim = 16       # embedding vector dimension 16\n",
        "max_length = 32           # max input sentence length 32\n",
        "trunc_type = 'post'       # if input sentence is larger than 32, truncate post\n",
        "padding_type = 'post'     # if input sentence is shorter than 32, padding post\n",
        "oov_tok = '<oov>'         # out of vocab \n",
        "training_size = 20000     # training data length "
      ],
      "execution_count": 0,
      "outputs": []
    },
    {
      "cell_type": "code",
      "metadata": {
        "id": "LnkyS4y68kcp",
        "colab_type": "code",
        "outputId": "84e39ded-0d52-4664-8dfa-09b30b3eab27",
        "colab": {
          "base_uri": "https://localhost:8080/",
          "height": 210
        }
      },
      "source": [
        "!wget --no-check-certificate \\\n",
        "    https://storage.googleapis.com/laurencemoroney-blog.appspot.com/sarcasm.json \\\n",
        "    -O /tmp/sarcasm.json\n",
        "  "
      ],
      "execution_count": 4,
      "outputs": [
        {
          "output_type": "stream",
          "text": [
            "--2019-10-07 23:18:18--  https://storage.googleapis.com/laurencemoroney-blog.appspot.com/sarcasm.json\n",
            "Resolving storage.googleapis.com (storage.googleapis.com)... 74.125.141.128, 2607:f8b0:400c:c06::80\n",
            "Connecting to storage.googleapis.com (storage.googleapis.com)|74.125.141.128|:443... connected.\n",
            "HTTP request sent, awaiting response... 200 OK\n",
            "Length: 5643545 (5.4M) [application/json]\n",
            "Saving to: ‘/tmp/sarcasm.json’\n",
            "\n",
            "\r/tmp/sarcasm.json     0%[                    ]       0  --.-KB/s               \r/tmp/sarcasm.json   100%[===================>]   5.38M  --.-KB/s    in 0.04s   \n",
            "\n",
            "2019-10-07 23:18:18 (149 MB/s) - ‘/tmp/sarcasm.json’ saved [5643545/5643545]\n",
            "\n"
          ],
          "name": "stdout"
        }
      ]
    },
    {
      "cell_type": "code",
      "metadata": {
        "id": "wcHecUYA9Pwd",
        "colab_type": "code",
        "colab": {}
      },
      "source": [
        "with open(\"/tmp/sarcasm.json\",'r') as f:\n",
        "  datastore = json.load(f)"
      ],
      "execution_count": 0,
      "outputs": []
    },
    {
      "cell_type": "code",
      "metadata": {
        "id": "vZgN1H2K9ShF",
        "colab_type": "code",
        "colab": {}
      },
      "source": [
        "sentences = []\n",
        "labels  = []\n",
        "\n",
        "for item in datastore:  \n",
        "  sentences.append(item['headline'])\n",
        "  labels.append(item['is_sarcastic'])"
      ],
      "execution_count": 0,
      "outputs": []
    },
    {
      "cell_type": "code",
      "metadata": {
        "id": "gOilY_So9hAA",
        "colab_type": "code",
        "outputId": "5fc80ff0-9a1c-4fca-a68e-3cd8498eafa5",
        "colab": {
          "base_uri": "https://localhost:8080/",
          "height": 34
        }
      },
      "source": [
        "training_sentences = sentences[0:training_size]\n",
        "testing_sentences = sentences[training_size:]\n",
        "training_labels = labels[0:training_size]\n",
        "testing_labels = labels[training_size:]\n",
        "\n",
        "print(len(training_sentences), len(testing_sentences))\n"
      ],
      "execution_count": 7,
      "outputs": [
        {
          "output_type": "stream",
          "text": [
            "20000 6709\n"
          ],
          "name": "stdout"
        }
      ]
    },
    {
      "cell_type": "code",
      "metadata": {
        "id": "_LQq6tKQ90V2",
        "colab_type": "code",
        "colab": {}
      },
      "source": [
        "# making tokenizer, word to sequence number\n",
        "# make sequence from training sentences\n",
        "\n",
        "tokenizer = Tokenizer(num_words = vocab_size, oov_token=oov_tok)\n",
        "tokenizer.fit_on_texts(training_sentences)\n",
        "\n",
        "word_index = tokenizer.word_index\n",
        "\n",
        "training_sequences = tokenizer.texts_to_sequences(training_sentences)\n",
        "training_padded = pad_sequences(training_sequences, maxlen = max_length,\n",
        "                                padding=padding_type, truncating = trunc_type)\n",
        "\n",
        "# make sequneces from tokenizer which is formed by training sentences\n",
        "testing_sequences = tokenizer.texts_to_sequences(testing_sentences)\n",
        "testing_padded = pad_sequences(testing_sequences, maxlen = max_length, \n",
        "                               padding=padding_type, truncating = trunc_type)\n",
        "\n",
        "\n"
      ],
      "execution_count": 0,
      "outputs": []
    },
    {
      "cell_type": "code",
      "metadata": {
        "id": "jGj5S9AJiqHV",
        "colab_type": "code",
        "colab": {
          "base_uri": "https://localhost:8080/",
          "height": 298
        },
        "outputId": "5d8c7e4b-37c8-4777-8869-a4adc83daa30"
      },
      "source": [
        "model = tf.keras.Sequential([\n",
        "              tf.keras.layers.Embedding(vocab_size, embedding_dim, input_length=max_length),\n",
        "              tf.keras.layers.GlobalAveragePooling1D(),\n",
        "              tf.keras.layers.Dense(24, activation='relu'),\n",
        "              tf.keras.layers.Dense(1, activation='sigmoid')\n",
        "])\n",
        "\n",
        "model.compile(loss='binary_crossentropy', optimizer = 'adam', metrics = ['accuracy'])\n",
        "model.summary()  "
      ],
      "execution_count": 14,
      "outputs": [
        {
          "output_type": "stream",
          "text": [
            "Model: \"sequential_2\"\n",
            "_________________________________________________________________\n",
            "Layer (type)                 Output Shape              Param #   \n",
            "=================================================================\n",
            "embedding_2 (Embedding)      (None, 32, 16)            160000    \n",
            "_________________________________________________________________\n",
            "global_average_pooling1d_2 ( (None, 16)                0         \n",
            "_________________________________________________________________\n",
            "dense_4 (Dense)              (None, 24)                408       \n",
            "_________________________________________________________________\n",
            "dense_5 (Dense)              (None, 1)                 25        \n",
            "=================================================================\n",
            "Total params: 160,433\n",
            "Trainable params: 160,433\n",
            "Non-trainable params: 0\n",
            "_________________________________________________________________\n"
          ],
          "name": "stdout"
        }
      ]
    },
    {
      "cell_type": "code",
      "metadata": {
        "id": "955zs_OTk9hW",
        "colab_type": "code",
        "colab": {
          "base_uri": "https://localhost:8080/",
          "height": 1000
        },
        "outputId": "2a91ae28-107c-42d5-81de-eaaca11fa5ff"
      },
      "source": [
        "num_epochs = 30\n",
        "\n",
        "history = model.fit(training_padded, training_labels, epochs=num_epochs,\n",
        "                    validation_data = (testing_padded, testing_labels), verbose = 2)\n",
        "\n"
      ],
      "execution_count": 18,
      "outputs": [
        {
          "output_type": "stream",
          "text": [
            "Train on 20000 samples, validate on 6709 samples\n",
            "Epoch 1/30\n",
            "20000/20000 - 3s - loss: 0.5600 - acc: 0.7024 - val_loss: 0.3935 - val_acc: 0.8399\n",
            "Epoch 2/30\n",
            "20000/20000 - 2s - loss: 0.3100 - acc: 0.8760 - val_loss: 0.3476 - val_acc: 0.8490\n",
            "Epoch 3/30\n",
            "20000/20000 - 2s - loss: 0.2318 - acc: 0.9093 - val_loss: 0.3549 - val_acc: 0.8474\n",
            "Epoch 4/30\n",
            "20000/20000 - 2s - loss: 0.1859 - acc: 0.9288 - val_loss: 0.3658 - val_acc: 0.8556\n",
            "Epoch 5/30\n",
            "20000/20000 - 3s - loss: 0.1539 - acc: 0.9424 - val_loss: 0.4042 - val_acc: 0.8438\n",
            "Epoch 6/30\n",
            "20000/20000 - 3s - loss: 0.1291 - acc: 0.9545 - val_loss: 0.4349 - val_acc: 0.8459\n",
            "Epoch 7/30\n",
            "20000/20000 - 2s - loss: 0.1109 - acc: 0.9616 - val_loss: 0.4790 - val_acc: 0.8430\n",
            "Epoch 8/30\n",
            "20000/20000 - 3s - loss: 0.0958 - acc: 0.9668 - val_loss: 0.5210 - val_acc: 0.8405\n",
            "Epoch 9/30\n",
            "20000/20000 - 3s - loss: 0.0827 - acc: 0.9716 - val_loss: 0.5743 - val_acc: 0.8353\n",
            "Epoch 10/30\n",
            "20000/20000 - 3s - loss: 0.0706 - acc: 0.9776 - val_loss: 0.6308 - val_acc: 0.8301\n",
            "Epoch 11/30\n",
            "20000/20000 - 3s - loss: 0.0610 - acc: 0.9814 - val_loss: 0.6915 - val_acc: 0.8283\n",
            "Epoch 12/30\n",
            "20000/20000 - 3s - loss: 0.0527 - acc: 0.9840 - val_loss: 0.7482 - val_acc: 0.8231\n",
            "Epoch 13/30\n",
            "20000/20000 - 2s - loss: 0.0466 - acc: 0.9858 - val_loss: 0.8109 - val_acc: 0.8217\n",
            "Epoch 14/30\n",
            "20000/20000 - 2s - loss: 0.0406 - acc: 0.9876 - val_loss: 0.8815 - val_acc: 0.8182\n",
            "Epoch 15/30\n",
            "20000/20000 - 3s - loss: 0.0364 - acc: 0.9894 - val_loss: 0.9375 - val_acc: 0.8180\n",
            "Epoch 16/30\n",
            "20000/20000 - 2s - loss: 0.0309 - acc: 0.9908 - val_loss: 1.0152 - val_acc: 0.8162\n",
            "Epoch 17/30\n",
            "20000/20000 - 2s - loss: 0.0270 - acc: 0.9924 - val_loss: 1.0702 - val_acc: 0.8123\n",
            "Epoch 18/30\n",
            "20000/20000 - 3s - loss: 0.0240 - acc: 0.9932 - val_loss: 1.1659 - val_acc: 0.8117\n",
            "Epoch 19/30\n",
            "20000/20000 - 3s - loss: 0.0223 - acc: 0.9941 - val_loss: 1.2290 - val_acc: 0.8106\n",
            "Epoch 20/30\n",
            "20000/20000 - 3s - loss: 0.0199 - acc: 0.9941 - val_loss: 1.2627 - val_acc: 0.8088\n",
            "Epoch 21/30\n",
            "20000/20000 - 3s - loss: 0.0177 - acc: 0.9947 - val_loss: 1.3059 - val_acc: 0.8091\n",
            "Epoch 22/30\n",
            "20000/20000 - 3s - loss: 0.0161 - acc: 0.9953 - val_loss: 1.4019 - val_acc: 0.8109\n",
            "Epoch 23/30\n",
            "20000/20000 - 3s - loss: 0.0146 - acc: 0.9962 - val_loss: 1.4343 - val_acc: 0.8073\n",
            "Epoch 24/30\n",
            "20000/20000 - 2s - loss: 0.0128 - acc: 0.9961 - val_loss: 1.5287 - val_acc: 0.8047\n",
            "Epoch 25/30\n",
            "20000/20000 - 2s - loss: 0.0133 - acc: 0.9959 - val_loss: 1.5846 - val_acc: 0.8049\n",
            "Epoch 26/30\n",
            "20000/20000 - 3s - loss: 0.0106 - acc: 0.9974 - val_loss: 1.5951 - val_acc: 0.8037\n",
            "Epoch 27/30\n",
            "20000/20000 - 2s - loss: 0.0098 - acc: 0.9976 - val_loss: 1.7150 - val_acc: 0.8050\n",
            "Epoch 28/30\n",
            "20000/20000 - 2s - loss: 0.0091 - acc: 0.9977 - val_loss: 1.8259 - val_acc: 0.8049\n",
            "Epoch 29/30\n",
            "20000/20000 - 2s - loss: 0.0101 - acc: 0.9970 - val_loss: 1.8429 - val_acc: 0.8024\n",
            "Epoch 30/30\n",
            "20000/20000 - 2s - loss: 0.0083 - acc: 0.9977 - val_loss: 1.8301 - val_acc: 0.8010\n"
          ],
          "name": "stdout"
        }
      ]
    },
    {
      "cell_type": "code",
      "metadata": {
        "id": "8Gko60Khl3Xt",
        "colab_type": "code",
        "colab": {}
      },
      "source": [
        "import plotly.graph_objects as go\n",
        "from plotly.subplots import make_subplots"
      ],
      "execution_count": 0,
      "outputs": []
    },
    {
      "cell_type": "code",
      "metadata": {
        "id": "zGxEglh8nF9-",
        "colab_type": "code",
        "colab": {
          "base_uri": "https://localhost:8080/",
          "height": 542
        },
        "outputId": "e112d8df-2f72-4066-c46d-81e20d61a6f9"
      },
      "source": [
        "def plot_graphs(history):\n",
        "  fig = make_subplots(rows = 1, cols=2, subplot_titles=('Acc','Loss'))\n",
        "\n",
        "  fig.add_trace(\n",
        "      go.Scatter(y=history.history['acc'], name='train acc'), row=1, col=1\n",
        "  )\n",
        "  fig.add_trace(\n",
        "      go.Scatter(y=history.history['val_acc'], name='test acc'), row=1, col=1\n",
        "  )\n",
        "  fig.add_trace(\n",
        "      go.Scatter(y=history.history['loss'], name='train loss'), row=1, col=2\n",
        "  )\n",
        "  fig.add_trace(\n",
        "      go.Scatter(y=history.history['val_loss'], name='test loss'), row=1, col=2\n",
        "  )\n",
        "  \n",
        "  fig.show()\n",
        "\n",
        "plot_graphs(history)"
      ],
      "execution_count": 25,
      "outputs": [
        {
          "output_type": "display_data",
          "data": {
            "text/html": [
              "<html>\n",
              "<head><meta charset=\"utf-8\" /></head>\n",
              "<body>\n",
              "    <div>\n",
              "            <script src=\"https://cdnjs.cloudflare.com/ajax/libs/mathjax/2.7.5/MathJax.js?config=TeX-AMS-MML_SVG\"></script><script type=\"text/javascript\">if (window.MathJax) {MathJax.Hub.Config({SVG: {font: \"STIX-Web\"}});}</script>\n",
              "                <script type=\"text/javascript\">window.PlotlyConfig = {MathJaxConfig: 'local'};</script>\n",
              "        <script src=\"https://cdn.plot.ly/plotly-latest.min.js\"></script>    \n",
              "            <div id=\"74b3d316-3565-4910-adbc-90f11400d64b\" class=\"plotly-graph-div\" style=\"height:525px; width:100%;\"></div>\n",
              "            <script type=\"text/javascript\">\n",
              "                \n",
              "                    window.PLOTLYENV=window.PLOTLYENV || {};\n",
              "                    \n",
              "                if (document.getElementById(\"74b3d316-3565-4910-adbc-90f11400d64b\")) {\n",
              "                    Plotly.newPlot(\n",
              "                        '74b3d316-3565-4910-adbc-90f11400d64b',\n",
              "                        [{\"name\": \"train acc\", \"type\": \"scatter\", \"xaxis\": \"x\", \"y\": [0.7023500204086304, 0.8760499954223633, 0.909250020980835, 0.9287999868392944, 0.9424499869346619, 0.9545000195503235, 0.9616000056266785, 0.9667500257492065, 0.9715999960899353, 0.9775999784469604, 0.9813500046730042, 0.9839500188827515, 0.98580002784729, 0.9876000285148621, 0.9893500208854675, 0.9908499717712402, 0.9924499988555908, 0.9932000041007996, 0.9940500259399414, 0.9941499829292297, 0.994700014591217, 0.9952999949455261, 0.996150016784668, 0.9961000084877014, 0.9958999752998352, 0.9973999857902527, 0.9976000189781189, 0.9977499842643738, 0.9970499873161316, 0.9976999759674072], \"yaxis\": \"y\"}, {\"name\": \"test acc\", \"type\": \"scatter\", \"xaxis\": \"x\", \"y\": [0.8399165272712708, 0.8490087985992432, 0.8473691940307617, 0.8555671572685242, 0.8437919020652771, 0.8458786606788635, 0.8430466651916504, 0.840512752532959, 0.8352958559989929, 0.8300790190696716, 0.8282903432846069, 0.8230735063552856, 0.8217319846153259, 0.8181546926498413, 0.8180056810379028, 0.8162170052528381, 0.8123416304588318, 0.8117454051971436, 0.8105530142784119, 0.8087643384933472, 0.8090624809265137, 0.8108510971069336, 0.807273805141449, 0.8047398924827576, 0.8048889636993408, 0.8036965131759644, 0.8050380349159241, 0.8048889636993408, 0.8023550510406494, 0.8010135889053345], \"yaxis\": \"y\"}, {\"name\": \"train loss\", \"type\": \"scatter\", \"xaxis\": \"x2\", \"y\": [0.5599555700063705, 0.3099846986413002, 0.2317774394392967, 0.18593425277471543, 0.15391423743963242, 0.12910008766353132, 0.11092154245078564, 0.09581875828653574, 0.08271046053171158, 0.07057498305290938, 0.06097970529273152, 0.052654986660927536, 0.046592945410683755, 0.0405757413694635, 0.036355088842660185, 0.030885295979864894, 0.02698282055305317, 0.023985260710399598, 0.022349932423466817, 0.019923544626217336, 0.017697505343938245, 0.016131071147182957, 0.014577111213770696, 0.012837895299773663, 0.013277751674735919, 0.010632150746160187, 0.009763938196370146, 0.009063492765044794, 0.010112469361815602, 0.008337765314831632], \"yaxis\": \"y2\"}, {\"name\": \"test loss\", \"type\": \"scatter\", \"xaxis\": \"x2\", \"y\": [0.39354640490643794, 0.34756411762844525, 0.35490788305049187, 0.3658211307103454, 0.40418251456917975, 0.4349289360567361, 0.4789523522390803, 0.5210121569929863, 0.5742868297251811, 0.6308252634012783, 0.6914707994937257, 0.7481620293790812, 0.8109324738652043, 0.8815430797217837, 0.9375366598150026, 1.0152266173733029, 1.0701784420908964, 1.1658962219975748, 1.2289762347692312, 1.262740971347022, 1.3059253202658827, 1.4018527740941067, 1.4343424808927505, 1.5287233340365287, 1.5846039367905493, 1.5950841577633392, 1.715047112472421, 1.825888924075232, 1.8428535856865151, 1.8300787261104883], \"yaxis\": \"y2\"}],\n",
              "                        {\"annotations\": [{\"font\": {\"size\": 16}, \"showarrow\": false, \"text\": \"Acc\", \"x\": 0.225, \"xanchor\": \"center\", \"xref\": \"paper\", \"y\": 1.0, \"yanchor\": \"bottom\", \"yref\": \"paper\"}, {\"font\": {\"size\": 16}, \"showarrow\": false, \"text\": \"Loss\", \"x\": 0.775, \"xanchor\": \"center\", \"xref\": \"paper\", \"y\": 1.0, \"yanchor\": \"bottom\", \"yref\": \"paper\"}], \"template\": {\"data\": {\"bar\": [{\"error_x\": {\"color\": \"#2a3f5f\"}, \"error_y\": {\"color\": \"#2a3f5f\"}, \"marker\": {\"line\": {\"color\": \"#E5ECF6\", \"width\": 0.5}}, \"type\": \"bar\"}], \"barpolar\": [{\"marker\": {\"line\": {\"color\": \"#E5ECF6\", \"width\": 0.5}}, \"type\": \"barpolar\"}], \"carpet\": [{\"aaxis\": {\"endlinecolor\": \"#2a3f5f\", \"gridcolor\": \"white\", \"linecolor\": \"white\", \"minorgridcolor\": \"white\", \"startlinecolor\": \"#2a3f5f\"}, \"baxis\": {\"endlinecolor\": \"#2a3f5f\", \"gridcolor\": \"white\", \"linecolor\": \"white\", \"minorgridcolor\": \"white\", \"startlinecolor\": \"#2a3f5f\"}, \"type\": \"carpet\"}], \"choropleth\": [{\"colorbar\": {\"outlinewidth\": 0, \"ticks\": \"\"}, \"type\": \"choropleth\"}], \"contour\": [{\"colorbar\": {\"outlinewidth\": 0, \"ticks\": \"\"}, \"colorscale\": [[0.0, \"#0d0887\"], [0.1111111111111111, \"#46039f\"], [0.2222222222222222, \"#7201a8\"], [0.3333333333333333, \"#9c179e\"], [0.4444444444444444, \"#bd3786\"], [0.5555555555555556, \"#d8576b\"], [0.6666666666666666, \"#ed7953\"], [0.7777777777777778, \"#fb9f3a\"], [0.8888888888888888, \"#fdca26\"], [1.0, \"#f0f921\"]], \"type\": \"contour\"}], \"contourcarpet\": [{\"colorbar\": {\"outlinewidth\": 0, \"ticks\": \"\"}, \"type\": \"contourcarpet\"}], \"heatmap\": [{\"colorbar\": {\"outlinewidth\": 0, \"ticks\": \"\"}, \"colorscale\": [[0.0, \"#0d0887\"], [0.1111111111111111, \"#46039f\"], [0.2222222222222222, \"#7201a8\"], [0.3333333333333333, \"#9c179e\"], [0.4444444444444444, \"#bd3786\"], [0.5555555555555556, \"#d8576b\"], [0.6666666666666666, \"#ed7953\"], [0.7777777777777778, \"#fb9f3a\"], [0.8888888888888888, \"#fdca26\"], [1.0, \"#f0f921\"]], \"type\": \"heatmap\"}], \"heatmapgl\": [{\"colorbar\": {\"outlinewidth\": 0, \"ticks\": \"\"}, \"colorscale\": [[0.0, \"#0d0887\"], [0.1111111111111111, \"#46039f\"], [0.2222222222222222, \"#7201a8\"], [0.3333333333333333, \"#9c179e\"], [0.4444444444444444, \"#bd3786\"], [0.5555555555555556, \"#d8576b\"], [0.6666666666666666, \"#ed7953\"], [0.7777777777777778, \"#fb9f3a\"], [0.8888888888888888, \"#fdca26\"], [1.0, \"#f0f921\"]], \"type\": \"heatmapgl\"}], \"histogram\": [{\"marker\": {\"colorbar\": {\"outlinewidth\": 0, \"ticks\": \"\"}}, \"type\": \"histogram\"}], \"histogram2d\": [{\"colorbar\": {\"outlinewidth\": 0, \"ticks\": \"\"}, \"colorscale\": [[0.0, \"#0d0887\"], [0.1111111111111111, \"#46039f\"], [0.2222222222222222, \"#7201a8\"], [0.3333333333333333, \"#9c179e\"], [0.4444444444444444, \"#bd3786\"], [0.5555555555555556, \"#d8576b\"], [0.6666666666666666, \"#ed7953\"], [0.7777777777777778, \"#fb9f3a\"], [0.8888888888888888, \"#fdca26\"], [1.0, \"#f0f921\"]], \"type\": \"histogram2d\"}], \"histogram2dcontour\": [{\"colorbar\": {\"outlinewidth\": 0, \"ticks\": \"\"}, \"colorscale\": [[0.0, \"#0d0887\"], [0.1111111111111111, \"#46039f\"], [0.2222222222222222, \"#7201a8\"], [0.3333333333333333, \"#9c179e\"], [0.4444444444444444, \"#bd3786\"], [0.5555555555555556, \"#d8576b\"], [0.6666666666666666, \"#ed7953\"], [0.7777777777777778, \"#fb9f3a\"], [0.8888888888888888, \"#fdca26\"], [1.0, \"#f0f921\"]], \"type\": \"histogram2dcontour\"}], \"mesh3d\": [{\"colorbar\": {\"outlinewidth\": 0, \"ticks\": \"\"}, \"type\": \"mesh3d\"}], \"parcoords\": [{\"line\": {\"colorbar\": {\"outlinewidth\": 0, \"ticks\": \"\"}}, \"type\": \"parcoords\"}], \"scatter\": [{\"marker\": {\"colorbar\": {\"outlinewidth\": 0, \"ticks\": \"\"}}, \"type\": \"scatter\"}], \"scatter3d\": [{\"line\": {\"colorbar\": {\"outlinewidth\": 0, \"ticks\": \"\"}}, \"marker\": {\"colorbar\": {\"outlinewidth\": 0, \"ticks\": \"\"}}, \"type\": \"scatter3d\"}], \"scattercarpet\": [{\"marker\": {\"colorbar\": {\"outlinewidth\": 0, \"ticks\": \"\"}}, \"type\": \"scattercarpet\"}], \"scattergeo\": [{\"marker\": {\"colorbar\": {\"outlinewidth\": 0, \"ticks\": \"\"}}, \"type\": \"scattergeo\"}], \"scattergl\": [{\"marker\": {\"colorbar\": {\"outlinewidth\": 0, \"ticks\": \"\"}}, \"type\": \"scattergl\"}], \"scattermapbox\": [{\"marker\": {\"colorbar\": {\"outlinewidth\": 0, \"ticks\": \"\"}}, \"type\": \"scattermapbox\"}], \"scatterpolar\": [{\"marker\": {\"colorbar\": {\"outlinewidth\": 0, \"ticks\": \"\"}}, \"type\": \"scatterpolar\"}], \"scatterpolargl\": [{\"marker\": {\"colorbar\": {\"outlinewidth\": 0, \"ticks\": \"\"}}, \"type\": \"scatterpolargl\"}], \"scatterternary\": [{\"marker\": {\"colorbar\": {\"outlinewidth\": 0, \"ticks\": \"\"}}, \"type\": \"scatterternary\"}], \"surface\": [{\"colorbar\": {\"outlinewidth\": 0, \"ticks\": \"\"}, \"colorscale\": [[0.0, \"#0d0887\"], [0.1111111111111111, \"#46039f\"], [0.2222222222222222, \"#7201a8\"], [0.3333333333333333, \"#9c179e\"], [0.4444444444444444, \"#bd3786\"], [0.5555555555555556, \"#d8576b\"], [0.6666666666666666, \"#ed7953\"], [0.7777777777777778, \"#fb9f3a\"], [0.8888888888888888, \"#fdca26\"], [1.0, \"#f0f921\"]], \"type\": \"surface\"}], \"table\": [{\"cells\": {\"fill\": {\"color\": \"#EBF0F8\"}, \"line\": {\"color\": \"white\"}}, \"header\": {\"fill\": {\"color\": \"#C8D4E3\"}, \"line\": {\"color\": \"white\"}}, \"type\": \"table\"}]}, \"layout\": {\"annotationdefaults\": {\"arrowcolor\": \"#2a3f5f\", \"arrowhead\": 0, \"arrowwidth\": 1}, \"colorscale\": {\"diverging\": [[0, \"#8e0152\"], [0.1, \"#c51b7d\"], [0.2, \"#de77ae\"], [0.3, \"#f1b6da\"], [0.4, \"#fde0ef\"], [0.5, \"#f7f7f7\"], [0.6, \"#e6f5d0\"], [0.7, \"#b8e186\"], [0.8, \"#7fbc41\"], [0.9, \"#4d9221\"], [1, \"#276419\"]], \"sequential\": [[0.0, \"#0d0887\"], [0.1111111111111111, \"#46039f\"], [0.2222222222222222, \"#7201a8\"], [0.3333333333333333, \"#9c179e\"], [0.4444444444444444, \"#bd3786\"], [0.5555555555555556, \"#d8576b\"], [0.6666666666666666, \"#ed7953\"], [0.7777777777777778, \"#fb9f3a\"], [0.8888888888888888, \"#fdca26\"], [1.0, \"#f0f921\"]], \"sequentialminus\": [[0.0, \"#0d0887\"], [0.1111111111111111, \"#46039f\"], [0.2222222222222222, \"#7201a8\"], [0.3333333333333333, \"#9c179e\"], [0.4444444444444444, \"#bd3786\"], [0.5555555555555556, \"#d8576b\"], [0.6666666666666666, \"#ed7953\"], [0.7777777777777778, \"#fb9f3a\"], [0.8888888888888888, \"#fdca26\"], [1.0, \"#f0f921\"]]}, \"colorway\": [\"#636efa\", \"#EF553B\", \"#00cc96\", \"#ab63fa\", \"#FFA15A\", \"#19d3f3\", \"#FF6692\", \"#B6E880\", \"#FF97FF\", \"#FECB52\"], \"font\": {\"color\": \"#2a3f5f\"}, \"geo\": {\"bgcolor\": \"white\", \"lakecolor\": \"white\", \"landcolor\": \"#E5ECF6\", \"showlakes\": true, \"showland\": true, \"subunitcolor\": \"white\"}, \"hoverlabel\": {\"align\": \"left\"}, \"hovermode\": \"closest\", \"mapbox\": {\"style\": \"light\"}, \"paper_bgcolor\": \"white\", \"plot_bgcolor\": \"#E5ECF6\", \"polar\": {\"angularaxis\": {\"gridcolor\": \"white\", \"linecolor\": \"white\", \"ticks\": \"\"}, \"bgcolor\": \"#E5ECF6\", \"radialaxis\": {\"gridcolor\": \"white\", \"linecolor\": \"white\", \"ticks\": \"\"}}, \"scene\": {\"xaxis\": {\"backgroundcolor\": \"#E5ECF6\", \"gridcolor\": \"white\", \"gridwidth\": 2, \"linecolor\": \"white\", \"showbackground\": true, \"ticks\": \"\", \"zerolinecolor\": \"white\"}, \"yaxis\": {\"backgroundcolor\": \"#E5ECF6\", \"gridcolor\": \"white\", \"gridwidth\": 2, \"linecolor\": \"white\", \"showbackground\": true, \"ticks\": \"\", \"zerolinecolor\": \"white\"}, \"zaxis\": {\"backgroundcolor\": \"#E5ECF6\", \"gridcolor\": \"white\", \"gridwidth\": 2, \"linecolor\": \"white\", \"showbackground\": true, \"ticks\": \"\", \"zerolinecolor\": \"white\"}}, \"shapedefaults\": {\"line\": {\"color\": \"#2a3f5f\"}}, \"ternary\": {\"aaxis\": {\"gridcolor\": \"white\", \"linecolor\": \"white\", \"ticks\": \"\"}, \"baxis\": {\"gridcolor\": \"white\", \"linecolor\": \"white\", \"ticks\": \"\"}, \"bgcolor\": \"#E5ECF6\", \"caxis\": {\"gridcolor\": \"white\", \"linecolor\": \"white\", \"ticks\": \"\"}}, \"title\": {\"x\": 0.05}, \"xaxis\": {\"automargin\": true, \"gridcolor\": \"white\", \"linecolor\": \"white\", \"ticks\": \"\", \"zerolinecolor\": \"white\", \"zerolinewidth\": 2}, \"yaxis\": {\"automargin\": true, \"gridcolor\": \"white\", \"linecolor\": \"white\", \"ticks\": \"\", \"zerolinecolor\": \"white\", \"zerolinewidth\": 2}}}, \"xaxis\": {\"anchor\": \"y\", \"domain\": [0.0, 0.45]}, \"xaxis2\": {\"anchor\": \"y2\", \"domain\": [0.55, 1.0]}, \"yaxis\": {\"anchor\": \"x\", \"domain\": [0.0, 1.0]}, \"yaxis2\": {\"anchor\": \"x2\", \"domain\": [0.0, 1.0]}},\n",
              "                        {\"responsive\": true}\n",
              "                    ).then(function(){\n",
              "                            \n",
              "var gd = document.getElementById('74b3d316-3565-4910-adbc-90f11400d64b');\n",
              "var x = new MutationObserver(function (mutations, observer) {{\n",
              "        var display = window.getComputedStyle(gd).display;\n",
              "        if (!display || display === 'none') {{\n",
              "            console.log([gd, 'removed!']);\n",
              "            Plotly.purge(gd);\n",
              "            observer.disconnect();\n",
              "        }}\n",
              "}});\n",
              "\n",
              "// Listen for the removal of the full notebook cells\n",
              "var notebookContainer = gd.closest('#notebook-container');\n",
              "if (notebookContainer) {{\n",
              "    x.observe(notebookContainer, {childList: true});\n",
              "}}\n",
              "\n",
              "// Listen for the clearing of the current output cell\n",
              "var outputEl = gd.closest('.output');\n",
              "if (outputEl) {{\n",
              "    x.observe(outputEl, {childList: true});\n",
              "}}\n",
              "\n",
              "                        })\n",
              "                };\n",
              "                \n",
              "            </script>\n",
              "        </div>\n",
              "</body>\n",
              "</html>"
            ]
          },
          "metadata": {
            "tags": []
          }
        }
      ]
    },
    {
      "cell_type": "code",
      "metadata": {
        "id": "YH31MBuyoLcG",
        "colab_type": "code",
        "colab": {}
      },
      "source": [
        "vocab_size = 1000\n",
        "embedding_dim = 32\n",
        "max_length = 16\n"
      ],
      "execution_count": 0,
      "outputs": []
    },
    {
      "cell_type": "code",
      "metadata": {
        "id": "NFlA7FsDo7Y9",
        "colab_type": "code",
        "colab": {}
      },
      "source": [
        "def gen_model(vocab_size, embedding_dim, max_length):\n",
        "\n",
        "  tokenizer = Tokenizer(num_words = vocab_size, oov_token=oov_tok)\n",
        "  tokenizer.fit_on_texts(training_sentences)\n",
        "\n",
        "  word_index = tokenizer.word_index\n",
        "\n",
        "  training_sequences = tokenizer.texts_to_sequences(training_sentences)\n",
        "  training_padded = pad_sequences(training_sequences, maxlen = max_length,\n",
        "                                  padding=padding_type, truncating = trunc_type)\n",
        "\n",
        "  # make sequneces from tokenizer which is formed by training sentences\n",
        "  testing_sequences = tokenizer.texts_to_sequences(testing_sentences)\n",
        "  testing_padded = pad_sequences(testing_sequences, maxlen = max_length, \n",
        "                                padding=padding_type, truncating = trunc_type)\n",
        "  \n",
        "  model = tf.keras.Sequential([\n",
        "              tf.keras.layers.Embedding(vocab_size, embedding_dim, input_length=max_length),\n",
        "              tf.keras.layers.GlobalAveragePooling1D(),\n",
        "              tf.keras.layers.Dense(24, activation='relu'),\n",
        "              tf.keras.layers.Dense(1, activation='sigmoid')\n",
        "  ])\n",
        "\n",
        "  model.compile(loss='binary_crossentropy', optimizer = 'adam', metrics = ['accuracy'])\n",
        "  model.summary()  \n",
        "\n",
        "  return model\n"
      ],
      "execution_count": 0,
      "outputs": []
    },
    {
      "cell_type": "code",
      "metadata": {
        "id": "d1E9HJvc8cPK",
        "colab_type": "code",
        "colab": {
          "base_uri": "https://localhost:8080/",
          "height": 298
        },
        "outputId": "7ff99be0-1b3d-42b7-df2e-a4ce5cdc05c0"
      },
      "source": [
        "model2 =  gen_model(vocab_size, embedding_dim, max_length)"
      ],
      "execution_count": 28,
      "outputs": [
        {
          "output_type": "stream",
          "text": [
            "Model: \"sequential_3\"\n",
            "_________________________________________________________________\n",
            "Layer (type)                 Output Shape              Param #   \n",
            "=================================================================\n",
            "embedding_3 (Embedding)      (None, 16, 32)            32000     \n",
            "_________________________________________________________________\n",
            "global_average_pooling1d_3 ( (None, 32)                0         \n",
            "_________________________________________________________________\n",
            "dense_6 (Dense)              (None, 24)                792       \n",
            "_________________________________________________________________\n",
            "dense_7 (Dense)              (None, 1)                 25        \n",
            "=================================================================\n",
            "Total params: 32,817\n",
            "Trainable params: 32,817\n",
            "Non-trainable params: 0\n",
            "_________________________________________________________________\n"
          ],
          "name": "stdout"
        }
      ]
    },
    {
      "cell_type": "code",
      "metadata": {
        "id": "PLD_UcDk8hAQ",
        "colab_type": "code",
        "colab": {
          "base_uri": "https://localhost:8080/",
          "height": 1000
        },
        "outputId": "1d9a0488-8893-4639-83a1-b36988f722b2"
      },
      "source": [
        "history = model.fit(training_padded, training_labels, epochs=num_epochs,\n",
        "                    validation_data = (testing_padded, testing_labels), verbose = 2)"
      ],
      "execution_count": 29,
      "outputs": [
        {
          "output_type": "stream",
          "text": [
            "Train on 20000 samples, validate on 6709 samples\n",
            "Epoch 1/30\n",
            "20000/20000 - 2s - loss: 0.0080 - acc: 0.9977 - val_loss: 1.9608 - val_acc: 0.8037\n",
            "Epoch 2/30\n",
            "20000/20000 - 2s - loss: 0.0076 - acc: 0.9977 - val_loss: 1.9831 - val_acc: 0.8016\n",
            "Epoch 3/30\n",
            "20000/20000 - 2s - loss: 0.0071 - acc: 0.9981 - val_loss: 1.9576 - val_acc: 0.7976\n",
            "Epoch 4/30\n",
            "20000/20000 - 2s - loss: 0.0059 - acc: 0.9987 - val_loss: 2.0864 - val_acc: 0.8009\n",
            "Epoch 5/30\n",
            "20000/20000 - 2s - loss: 0.0052 - acc: 0.9985 - val_loss: 2.1862 - val_acc: 0.7989\n",
            "Epoch 6/30\n",
            "20000/20000 - 2s - loss: 0.0065 - acc: 0.9983 - val_loss: 2.2350 - val_acc: 0.7992\n",
            "Epoch 7/30\n",
            "20000/20000 - 2s - loss: 0.0048 - acc: 0.9985 - val_loss: 2.2341 - val_acc: 0.8010\n",
            "Epoch 8/30\n",
            "20000/20000 - 2s - loss: 0.0062 - acc: 0.9979 - val_loss: 2.1946 - val_acc: 0.7956\n",
            "Epoch 9/30\n",
            "20000/20000 - 2s - loss: 0.0057 - acc: 0.9980 - val_loss: 2.3531 - val_acc: 0.8001\n",
            "Epoch 10/30\n",
            "20000/20000 - 2s - loss: 0.0050 - acc: 0.9984 - val_loss: 2.3594 - val_acc: 0.7982\n",
            "Epoch 11/30\n",
            "20000/20000 - 2s - loss: 0.0042 - acc: 0.9988 - val_loss: 2.4278 - val_acc: 0.7994\n",
            "Epoch 12/30\n",
            "20000/20000 - 2s - loss: 0.0033 - acc: 0.9992 - val_loss: 2.4713 - val_acc: 0.7983\n",
            "Epoch 13/30\n",
            "20000/20000 - 2s - loss: 0.0047 - acc: 0.9985 - val_loss: 2.5100 - val_acc: 0.7998\n",
            "Epoch 14/30\n",
            "20000/20000 - 2s - loss: 0.0047 - acc: 0.9989 - val_loss: 2.5846 - val_acc: 0.7983\n",
            "Epoch 15/30\n",
            "20000/20000 - 2s - loss: 0.0034 - acc: 0.9991 - val_loss: 2.7539 - val_acc: 0.7992\n",
            "Epoch 16/30\n",
            "20000/20000 - 2s - loss: 0.0038 - acc: 0.9987 - val_loss: 2.6523 - val_acc: 0.7986\n",
            "Epoch 17/30\n",
            "20000/20000 - 2s - loss: 0.0023 - acc: 0.9994 - val_loss: 2.7617 - val_acc: 0.7976\n",
            "Epoch 18/30\n",
            "20000/20000 - 2s - loss: 0.0033 - acc: 0.9988 - val_loss: 2.7171 - val_acc: 0.7945\n",
            "Epoch 19/30\n",
            "20000/20000 - 2s - loss: 0.0039 - acc: 0.9987 - val_loss: 2.7538 - val_acc: 0.7933\n",
            "Epoch 20/30\n",
            "20000/20000 - 2s - loss: 0.0034 - acc: 0.9988 - val_loss: 2.7776 - val_acc: 0.7910\n",
            "Epoch 21/30\n",
            "20000/20000 - 2s - loss: 0.0038 - acc: 0.9987 - val_loss: 2.8817 - val_acc: 0.7961\n",
            "Epoch 22/30\n",
            "20000/20000 - 2s - loss: 0.0022 - acc: 0.9995 - val_loss: 2.9757 - val_acc: 0.7948\n",
            "Epoch 23/30\n",
            "20000/20000 - 2s - loss: 0.0033 - acc: 0.9988 - val_loss: 3.0654 - val_acc: 0.7997\n",
            "Epoch 24/30\n",
            "20000/20000 - 2s - loss: 0.0029 - acc: 0.9990 - val_loss: 2.9302 - val_acc: 0.7909\n",
            "Epoch 25/30\n",
            "20000/20000 - 2s - loss: 0.0041 - acc: 0.9983 - val_loss: 3.1137 - val_acc: 0.7976\n",
            "Epoch 26/30\n",
            "20000/20000 - 2s - loss: 0.0033 - acc: 0.9987 - val_loss: 2.9767 - val_acc: 0.7913\n",
            "Epoch 27/30\n",
            "20000/20000 - 2s - loss: 0.0022 - acc: 0.9995 - val_loss: 3.0567 - val_acc: 0.7936\n",
            "Epoch 28/30\n",
            "20000/20000 - 2s - loss: 0.0020 - acc: 0.9993 - val_loss: 3.2064 - val_acc: 0.7952\n",
            "Epoch 29/30\n",
            "20000/20000 - 2s - loss: 0.0032 - acc: 0.9988 - val_loss: 3.2774 - val_acc: 0.7974\n",
            "Epoch 30/30\n",
            "20000/20000 - 2s - loss: 0.0027 - acc: 0.9992 - val_loss: 3.1984 - val_acc: 0.7970\n"
          ],
          "name": "stdout"
        }
      ]
    },
    {
      "cell_type": "code",
      "metadata": {
        "id": "JcUiw_Es8pjQ",
        "colab_type": "code",
        "colab": {
          "base_uri": "https://localhost:8080/",
          "height": 542
        },
        "outputId": "38f9da1e-014d-4521-b937-47b83a4bcd74"
      },
      "source": [
        "plot_graphs(history)"
      ],
      "execution_count": 30,
      "outputs": [
        {
          "output_type": "display_data",
          "data": {
            "text/html": [
              "<html>\n",
              "<head><meta charset=\"utf-8\" /></head>\n",
              "<body>\n",
              "    <div>\n",
              "            <script src=\"https://cdnjs.cloudflare.com/ajax/libs/mathjax/2.7.5/MathJax.js?config=TeX-AMS-MML_SVG\"></script><script type=\"text/javascript\">if (window.MathJax) {MathJax.Hub.Config({SVG: {font: \"STIX-Web\"}});}</script>\n",
              "                <script type=\"text/javascript\">window.PlotlyConfig = {MathJaxConfig: 'local'};</script>\n",
              "        <script src=\"https://cdn.plot.ly/plotly-latest.min.js\"></script>    \n",
              "            <div id=\"886ae0d3-2573-4e4d-ae95-c4deea55268e\" class=\"plotly-graph-div\" style=\"height:525px; width:100%;\"></div>\n",
              "            <script type=\"text/javascript\">\n",
              "                \n",
              "                    window.PLOTLYENV=window.PLOTLYENV || {};\n",
              "                    \n",
              "                if (document.getElementById(\"886ae0d3-2573-4e4d-ae95-c4deea55268e\")) {\n",
              "                    Plotly.newPlot(\n",
              "                        '886ae0d3-2573-4e4d-ae95-c4deea55268e',\n",
              "                        [{\"name\": \"train acc\", \"type\": \"scatter\", \"xaxis\": \"x\", \"y\": [0.9976999759674072, 0.9976999759674072, 0.9980999827384949, 0.9987499713897705, 0.9984999895095825, 0.9982500076293945, 0.9985499978065491, 0.9979000091552734, 0.9980499744415283, 0.9983500242233276, 0.9987999796867371, 0.9992499947547913, 0.9984999895095825, 0.9988999962806702, 0.9991000294685364, 0.9987499713897705, 0.9993500113487244, 0.9987999796867371, 0.9987499713897705, 0.9987999796867371, 0.9986500144004822, 0.9994999766349792, 0.9987999796867371, 0.9990000128746033, 0.9983000159263611, 0.9986500144004822, 0.9994999766349792, 0.9993000030517578, 0.9988499879837036, 0.9991999864578247], \"yaxis\": \"y\"}, {\"name\": \"test acc\", \"type\": \"scatter\", \"xaxis\": \"x\", \"y\": [0.8036965131759644, 0.8016097545623779, 0.7975853085517883, 0.8008645176887512, 0.798926830291748, 0.7992249131202698, 0.8010135889053345, 0.7956476211547852, 0.8001192212104797, 0.7981815338134766, 0.799373984336853, 0.7983306050300598, 0.799821138381958, 0.7983306050300598, 0.7992249131202698, 0.7986286878585815, 0.7975853085517883, 0.7944552302360535, 0.793262779712677, 0.7910269498825073, 0.7960947751998901, 0.7947533130645752, 0.7996720671653748, 0.7908779382705688, 0.7975853085517883, 0.7913250923156738, 0.7935608625411987, 0.7952004671096802, 0.7974362969398499, 0.7969891428947449], \"yaxis\": \"y\"}, {\"name\": \"train loss\", \"type\": \"scatter\", \"xaxis\": \"x2\", \"y\": [0.008027524057863047, 0.007553344499453669, 0.007131311300056405, 0.00590729501330643, 0.005245014425495174, 0.006487168474119971, 0.00478636092688248, 0.00622396006044437, 0.0056671464387953166, 0.0049693779518464, 0.004244922644684994, 0.0032567315987937035, 0.004722127133934555, 0.004671978493018833, 0.0033899400084126683, 0.0038441151072300273, 0.0023129608685434505, 0.0033434077056044773, 0.003864330073342626, 0.0034496135916728234, 0.0038115432905491617, 0.0021739699396359355, 0.0032733565142836598, 0.0028582974019576795, 0.004147795004531872, 0.0032895428692303083, 0.002204156471872011, 0.001965439853872431, 0.003249250572022902, 0.0027265366756814274], \"yaxis\": \"y2\"}, {\"name\": \"test loss\", \"type\": \"scatter\", \"xaxis\": \"x2\", \"y\": [1.9608490601846085, 1.9831030549511217, 1.957596613604224, 2.0863612349546155, 2.186213495586007, 2.2349534481874893, 2.234113253740782, 2.194616846221626, 2.353083205873413, 2.359369331841711, 2.4277505060655917, 2.4713324566394923, 2.5100151119724012, 2.584597518750036, 2.7538630978008163, 2.65226069516975, 2.761689162286317, 2.717081025595956, 2.753844546177185, 2.7775858903467823, 2.881722341548279, 2.975741832973101, 3.0654338890721893, 2.930223558392925, 3.1136943477510357, 2.9766676935180856, 3.0567463023471735, 3.206388733855728, 3.277427227357795, 3.198378734998011], \"yaxis\": \"y2\"}],\n",
              "                        {\"annotations\": [{\"font\": {\"size\": 16}, \"showarrow\": false, \"text\": \"Acc\", \"x\": 0.225, \"xanchor\": \"center\", \"xref\": \"paper\", \"y\": 1.0, \"yanchor\": \"bottom\", \"yref\": \"paper\"}, {\"font\": {\"size\": 16}, \"showarrow\": false, \"text\": \"Loss\", \"x\": 0.775, \"xanchor\": \"center\", \"xref\": \"paper\", \"y\": 1.0, \"yanchor\": \"bottom\", \"yref\": \"paper\"}], \"template\": {\"data\": {\"bar\": [{\"error_x\": {\"color\": \"#2a3f5f\"}, \"error_y\": {\"color\": \"#2a3f5f\"}, \"marker\": {\"line\": {\"color\": \"#E5ECF6\", \"width\": 0.5}}, \"type\": \"bar\"}], \"barpolar\": [{\"marker\": {\"line\": {\"color\": \"#E5ECF6\", \"width\": 0.5}}, \"type\": \"barpolar\"}], \"carpet\": [{\"aaxis\": {\"endlinecolor\": \"#2a3f5f\", \"gridcolor\": \"white\", \"linecolor\": \"white\", \"minorgridcolor\": \"white\", \"startlinecolor\": \"#2a3f5f\"}, \"baxis\": {\"endlinecolor\": \"#2a3f5f\", \"gridcolor\": \"white\", \"linecolor\": \"white\", \"minorgridcolor\": \"white\", \"startlinecolor\": \"#2a3f5f\"}, \"type\": \"carpet\"}], \"choropleth\": [{\"colorbar\": {\"outlinewidth\": 0, \"ticks\": \"\"}, \"type\": \"choropleth\"}], \"contour\": [{\"colorbar\": {\"outlinewidth\": 0, \"ticks\": \"\"}, \"colorscale\": [[0.0, \"#0d0887\"], [0.1111111111111111, \"#46039f\"], [0.2222222222222222, \"#7201a8\"], [0.3333333333333333, \"#9c179e\"], [0.4444444444444444, \"#bd3786\"], [0.5555555555555556, \"#d8576b\"], [0.6666666666666666, \"#ed7953\"], [0.7777777777777778, \"#fb9f3a\"], [0.8888888888888888, \"#fdca26\"], [1.0, \"#f0f921\"]], \"type\": \"contour\"}], \"contourcarpet\": [{\"colorbar\": {\"outlinewidth\": 0, \"ticks\": \"\"}, \"type\": \"contourcarpet\"}], \"heatmap\": [{\"colorbar\": {\"outlinewidth\": 0, \"ticks\": \"\"}, \"colorscale\": [[0.0, \"#0d0887\"], [0.1111111111111111, \"#46039f\"], [0.2222222222222222, \"#7201a8\"], [0.3333333333333333, \"#9c179e\"], [0.4444444444444444, \"#bd3786\"], [0.5555555555555556, \"#d8576b\"], [0.6666666666666666, \"#ed7953\"], [0.7777777777777778, \"#fb9f3a\"], [0.8888888888888888, \"#fdca26\"], [1.0, \"#f0f921\"]], \"type\": \"heatmap\"}], \"heatmapgl\": [{\"colorbar\": {\"outlinewidth\": 0, \"ticks\": \"\"}, \"colorscale\": [[0.0, \"#0d0887\"], [0.1111111111111111, \"#46039f\"], [0.2222222222222222, \"#7201a8\"], [0.3333333333333333, \"#9c179e\"], [0.4444444444444444, \"#bd3786\"], [0.5555555555555556, \"#d8576b\"], [0.6666666666666666, \"#ed7953\"], [0.7777777777777778, \"#fb9f3a\"], [0.8888888888888888, \"#fdca26\"], [1.0, \"#f0f921\"]], \"type\": \"heatmapgl\"}], \"histogram\": [{\"marker\": {\"colorbar\": {\"outlinewidth\": 0, \"ticks\": \"\"}}, \"type\": \"histogram\"}], \"histogram2d\": [{\"colorbar\": {\"outlinewidth\": 0, \"ticks\": \"\"}, \"colorscale\": [[0.0, \"#0d0887\"], [0.1111111111111111, \"#46039f\"], [0.2222222222222222, \"#7201a8\"], [0.3333333333333333, \"#9c179e\"], [0.4444444444444444, \"#bd3786\"], [0.5555555555555556, \"#d8576b\"], [0.6666666666666666, \"#ed7953\"], [0.7777777777777778, \"#fb9f3a\"], [0.8888888888888888, \"#fdca26\"], [1.0, \"#f0f921\"]], \"type\": \"histogram2d\"}], \"histogram2dcontour\": [{\"colorbar\": {\"outlinewidth\": 0, \"ticks\": \"\"}, \"colorscale\": [[0.0, \"#0d0887\"], [0.1111111111111111, \"#46039f\"], [0.2222222222222222, \"#7201a8\"], [0.3333333333333333, \"#9c179e\"], [0.4444444444444444, \"#bd3786\"], [0.5555555555555556, \"#d8576b\"], [0.6666666666666666, \"#ed7953\"], [0.7777777777777778, \"#fb9f3a\"], [0.8888888888888888, \"#fdca26\"], [1.0, \"#f0f921\"]], \"type\": \"histogram2dcontour\"}], \"mesh3d\": [{\"colorbar\": {\"outlinewidth\": 0, \"ticks\": \"\"}, \"type\": \"mesh3d\"}], \"parcoords\": [{\"line\": {\"colorbar\": {\"outlinewidth\": 0, \"ticks\": \"\"}}, \"type\": \"parcoords\"}], \"scatter\": [{\"marker\": {\"colorbar\": {\"outlinewidth\": 0, \"ticks\": \"\"}}, \"type\": \"scatter\"}], \"scatter3d\": [{\"line\": {\"colorbar\": {\"outlinewidth\": 0, \"ticks\": \"\"}}, \"marker\": {\"colorbar\": {\"outlinewidth\": 0, \"ticks\": \"\"}}, \"type\": \"scatter3d\"}], \"scattercarpet\": [{\"marker\": {\"colorbar\": {\"outlinewidth\": 0, \"ticks\": \"\"}}, \"type\": \"scattercarpet\"}], \"scattergeo\": [{\"marker\": {\"colorbar\": {\"outlinewidth\": 0, \"ticks\": \"\"}}, \"type\": \"scattergeo\"}], \"scattergl\": [{\"marker\": {\"colorbar\": {\"outlinewidth\": 0, \"ticks\": \"\"}}, \"type\": \"scattergl\"}], \"scattermapbox\": [{\"marker\": {\"colorbar\": {\"outlinewidth\": 0, \"ticks\": \"\"}}, \"type\": \"scattermapbox\"}], \"scatterpolar\": [{\"marker\": {\"colorbar\": {\"outlinewidth\": 0, \"ticks\": \"\"}}, \"type\": \"scatterpolar\"}], \"scatterpolargl\": [{\"marker\": {\"colorbar\": {\"outlinewidth\": 0, \"ticks\": \"\"}}, \"type\": \"scatterpolargl\"}], \"scatterternary\": [{\"marker\": {\"colorbar\": {\"outlinewidth\": 0, \"ticks\": \"\"}}, \"type\": \"scatterternary\"}], \"surface\": [{\"colorbar\": {\"outlinewidth\": 0, \"ticks\": \"\"}, \"colorscale\": [[0.0, \"#0d0887\"], [0.1111111111111111, \"#46039f\"], [0.2222222222222222, \"#7201a8\"], [0.3333333333333333, \"#9c179e\"], [0.4444444444444444, \"#bd3786\"], [0.5555555555555556, \"#d8576b\"], [0.6666666666666666, \"#ed7953\"], [0.7777777777777778, \"#fb9f3a\"], [0.8888888888888888, \"#fdca26\"], [1.0, \"#f0f921\"]], \"type\": \"surface\"}], \"table\": [{\"cells\": {\"fill\": {\"color\": \"#EBF0F8\"}, \"line\": {\"color\": \"white\"}}, \"header\": {\"fill\": {\"color\": \"#C8D4E3\"}, \"line\": {\"color\": \"white\"}}, \"type\": \"table\"}]}, \"layout\": {\"annotationdefaults\": {\"arrowcolor\": \"#2a3f5f\", \"arrowhead\": 0, \"arrowwidth\": 1}, \"colorscale\": {\"diverging\": [[0, \"#8e0152\"], [0.1, \"#c51b7d\"], [0.2, \"#de77ae\"], [0.3, \"#f1b6da\"], [0.4, \"#fde0ef\"], [0.5, \"#f7f7f7\"], [0.6, \"#e6f5d0\"], [0.7, \"#b8e186\"], [0.8, \"#7fbc41\"], [0.9, \"#4d9221\"], [1, \"#276419\"]], \"sequential\": [[0.0, \"#0d0887\"], [0.1111111111111111, \"#46039f\"], [0.2222222222222222, \"#7201a8\"], [0.3333333333333333, \"#9c179e\"], [0.4444444444444444, \"#bd3786\"], [0.5555555555555556, \"#d8576b\"], [0.6666666666666666, \"#ed7953\"], [0.7777777777777778, \"#fb9f3a\"], [0.8888888888888888, \"#fdca26\"], [1.0, \"#f0f921\"]], \"sequentialminus\": [[0.0, \"#0d0887\"], [0.1111111111111111, \"#46039f\"], [0.2222222222222222, \"#7201a8\"], [0.3333333333333333, \"#9c179e\"], [0.4444444444444444, \"#bd3786\"], [0.5555555555555556, \"#d8576b\"], [0.6666666666666666, \"#ed7953\"], [0.7777777777777778, \"#fb9f3a\"], [0.8888888888888888, \"#fdca26\"], [1.0, \"#f0f921\"]]}, \"colorway\": [\"#636efa\", \"#EF553B\", \"#00cc96\", \"#ab63fa\", \"#FFA15A\", \"#19d3f3\", \"#FF6692\", \"#B6E880\", \"#FF97FF\", \"#FECB52\"], \"font\": {\"color\": \"#2a3f5f\"}, \"geo\": {\"bgcolor\": \"white\", \"lakecolor\": \"white\", \"landcolor\": \"#E5ECF6\", \"showlakes\": true, \"showland\": true, \"subunitcolor\": \"white\"}, \"hoverlabel\": {\"align\": \"left\"}, \"hovermode\": \"closest\", \"mapbox\": {\"style\": \"light\"}, \"paper_bgcolor\": \"white\", \"plot_bgcolor\": \"#E5ECF6\", \"polar\": {\"angularaxis\": {\"gridcolor\": \"white\", \"linecolor\": \"white\", \"ticks\": \"\"}, \"bgcolor\": \"#E5ECF6\", \"radialaxis\": {\"gridcolor\": \"white\", \"linecolor\": \"white\", \"ticks\": \"\"}}, \"scene\": {\"xaxis\": {\"backgroundcolor\": \"#E5ECF6\", \"gridcolor\": \"white\", \"gridwidth\": 2, \"linecolor\": \"white\", \"showbackground\": true, \"ticks\": \"\", \"zerolinecolor\": \"white\"}, \"yaxis\": {\"backgroundcolor\": \"#E5ECF6\", \"gridcolor\": \"white\", \"gridwidth\": 2, \"linecolor\": \"white\", \"showbackground\": true, \"ticks\": \"\", \"zerolinecolor\": \"white\"}, \"zaxis\": {\"backgroundcolor\": \"#E5ECF6\", \"gridcolor\": \"white\", \"gridwidth\": 2, \"linecolor\": \"white\", \"showbackground\": true, \"ticks\": \"\", \"zerolinecolor\": \"white\"}}, \"shapedefaults\": {\"line\": {\"color\": \"#2a3f5f\"}}, \"ternary\": {\"aaxis\": {\"gridcolor\": \"white\", \"linecolor\": \"white\", \"ticks\": \"\"}, \"baxis\": {\"gridcolor\": \"white\", \"linecolor\": \"white\", \"ticks\": \"\"}, \"bgcolor\": \"#E5ECF6\", \"caxis\": {\"gridcolor\": \"white\", \"linecolor\": \"white\", \"ticks\": \"\"}}, \"title\": {\"x\": 0.05}, \"xaxis\": {\"automargin\": true, \"gridcolor\": \"white\", \"linecolor\": \"white\", \"ticks\": \"\", \"zerolinecolor\": \"white\", \"zerolinewidth\": 2}, \"yaxis\": {\"automargin\": true, \"gridcolor\": \"white\", \"linecolor\": \"white\", \"ticks\": \"\", \"zerolinecolor\": \"white\", \"zerolinewidth\": 2}}}, \"xaxis\": {\"anchor\": \"y\", \"domain\": [0.0, 0.45]}, \"xaxis2\": {\"anchor\": \"y2\", \"domain\": [0.55, 1.0]}, \"yaxis\": {\"anchor\": \"x\", \"domain\": [0.0, 1.0]}, \"yaxis2\": {\"anchor\": \"x2\", \"domain\": [0.0, 1.0]}},\n",
              "                        {\"responsive\": true}\n",
              "                    ).then(function(){\n",
              "                            \n",
              "var gd = document.getElementById('886ae0d3-2573-4e4d-ae95-c4deea55268e');\n",
              "var x = new MutationObserver(function (mutations, observer) {{\n",
              "        var display = window.getComputedStyle(gd).display;\n",
              "        if (!display || display === 'none') {{\n",
              "            console.log([gd, 'removed!']);\n",
              "            Plotly.purge(gd);\n",
              "            observer.disconnect();\n",
              "        }}\n",
              "}});\n",
              "\n",
              "// Listen for the removal of the full notebook cells\n",
              "var notebookContainer = gd.closest('#notebook-container');\n",
              "if (notebookContainer) {{\n",
              "    x.observe(notebookContainer, {childList: true});\n",
              "}}\n",
              "\n",
              "// Listen for the clearing of the current output cell\n",
              "var outputEl = gd.closest('.output');\n",
              "if (outputEl) {{\n",
              "    x.observe(outputEl, {childList: true});\n",
              "}}\n",
              "\n",
              "                        })\n",
              "                };\n",
              "                \n",
              "            </script>\n",
              "        </div>\n",
              "</body>\n",
              "</html>"
            ]
          },
          "metadata": {
            "tags": []
          }
        }
      ]
    },
    {
      "cell_type": "code",
      "metadata": {
        "id": "hD398Gic8-_A",
        "colab_type": "code",
        "colab": {}
      },
      "source": [
        ""
      ],
      "execution_count": 0,
      "outputs": []
    }
  ]
}