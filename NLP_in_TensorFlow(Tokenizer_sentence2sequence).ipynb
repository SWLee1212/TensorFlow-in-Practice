{
  "nbformat": 4,
  "nbformat_minor": 0,
  "metadata": {
    "colab": {
      "name": "NLP in TensorFlow(Tokenizer_sentence2sequence).ipynb",
      "provenance": [],
      "include_colab_link": true
    },
    "kernelspec": {
      "name": "python3",
      "display_name": "Python 3"
    }
  },
  "cells": [
    {
      "cell_type": "markdown",
      "metadata": {
        "id": "view-in-github",
        "colab_type": "text"
      },
      "source": [
        "<a href=\"https://colab.research.google.com/github/SWLee1212/TensorFlow-in-Practice/blob/master/NLP_in_TensorFlow(Tokenizer_sentence2sequence).ipynb\" target=\"_parent\"><img src=\"https://colab.research.google.com/assets/colab-badge.svg\" alt=\"Open In Colab\"/></a>"
      ]
    },
    {
      "cell_type": "code",
      "metadata": {
        "id": "tD5MjpRSy7Xh",
        "colab_type": "code",
        "colab": {}
      },
      "source": [
        "from tensorflow.keras.preprocessing.text import Tokenizer"
      ],
      "execution_count": 0,
      "outputs": []
    },
    {
      "cell_type": "code",
      "metadata": {
        "id": "E2dDhTbRzLXm",
        "colab_type": "code",
        "outputId": "90828cd2-47af-4fe8-b5f2-16729660d06d",
        "colab": {
          "base_uri": "https://localhost:8080/",
          "height": 105
        }
      },
      "source": [
        "sentence = [\n",
        "  'i love my dog',\n",
        "  'I love my cat',\n",
        "  'You love My Dog' \n",
        "]\n",
        "\n",
        "tokenizer = Tokenizer(num_words = 100,oov_token='unknown')\n",
        "tokenizer.fit_on_texts(sentence)\n",
        "word_index = tokenizer.word_index\n",
        "print(word_index)\n",
        "\n",
        "print(sentence)\n",
        "test_sentence = [\n",
        "  'I do love my job',\n",
        "  'here comes my dog'    \n",
        "]\n",
        "sequence = tokenizer.texts_to_sequences(test_sentence)\n",
        "print(sequence)\n",
        "\n",
        "print(test_sentence)\n",
        "result_sentence = tokenizer.sequences_to_texts(sequence)\n",
        "print(result_sentence)"
      ],
      "execution_count": 0,
      "outputs": [
        {
          "output_type": "stream",
          "text": [
            "{'unknown': 1, 'love': 2, 'my': 3, 'i': 4, 'dog': 5, 'cat': 6, 'you': 7}\n",
            "['i love my dog', 'I love my cat', 'You love My Dog']\n",
            "[[4, 1, 2, 3, 1], [1, 1, 3, 5]]\n",
            "['I do love my job', 'here comes my dog']\n",
            "['i unknown love my unknown', 'unknown unknown my dog']\n"
          ],
          "name": "stdout"
        }
      ]
    },
    {
      "cell_type": "code",
      "metadata": {
        "id": "s9UN6IRazeTi",
        "colab_type": "code",
        "colab": {}
      },
      "source": [
        ""
      ],
      "execution_count": 0,
      "outputs": []
    }
  ]
}